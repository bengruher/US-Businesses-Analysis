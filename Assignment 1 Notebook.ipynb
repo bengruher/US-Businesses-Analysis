{
 "cells": [
  {
   "cell_type": "markdown",
   "metadata": {},
   "source": [
    "# Assignment 1\n",
    "### Ben Gruher\n",
    "\n",
    "For this exercise you will pull together data from threedifferent sources, and use that data to do some analysis about the relationships between businesses, the kind of business, where the business is located, and the population and income of where it is located. "
   ]
  },
  {
   "cell_type": "markdown",
   "metadata": {},
   "source": [
    "Import Pandas library"
   ]
  },
  {
   "cell_type": "code",
   "execution_count": 1,
   "metadata": {},
   "outputs": [],
   "source": [
    "import pandas as pd"
   ]
  },
  {
   "cell_type": "markdown",
   "metadata": {},
   "source": [
    "Read businesses.tsv with special delimiter and assign column names"
   ]
  },
  {
   "cell_type": "code",
   "execution_count": 2,
   "metadata": {},
   "outputs": [],
   "source": [
    "col_names = ['UUID', 'Code', 'zip']\n",
    "types = {'UUID':str, 'zip':str}\n",
    "businesses = pd.read_csv('businesses.tsv', delimiter = '\t', header = None, names = col_names, dtype = types)"
   ]
  },
  {
   "cell_type": "code",
   "execution_count": 3,
   "metadata": {},
   "outputs": [
    {
     "name": "stdout",
     "output_type": "stream",
     "text": [
      "<class 'pandas.core.frame.DataFrame'>\n",
      "RangeIndex: 935626 entries, 0 to 935625\n",
      "Data columns (total 3 columns):\n",
      "UUID    935626 non-null object\n",
      "Code    846679 non-null float64\n",
      "zip     935626 non-null object\n",
      "dtypes: float64(1), object(2)\n",
      "memory usage: 14.3+ MB\n"
     ]
    }
   ],
   "source": [
    "businesses.info()"
   ]
  },
  {
   "cell_type": "code",
   "execution_count": 4,
   "metadata": {},
   "outputs": [
    {
     "data": {
      "text/html": [
       "<div>\n",
       "<style scoped>\n",
       "    .dataframe tbody tr th:only-of-type {\n",
       "        vertical-align: middle;\n",
       "    }\n",
       "\n",
       "    .dataframe tbody tr th {\n",
       "        vertical-align: top;\n",
       "    }\n",
       "\n",
       "    .dataframe thead th {\n",
       "        text-align: right;\n",
       "    }\n",
       "</style>\n",
       "<table border=\"1\" class=\"dataframe\">\n",
       "  <thead>\n",
       "    <tr style=\"text-align: right;\">\n",
       "      <th></th>\n",
       "      <th>UUID</th>\n",
       "      <th>Code</th>\n",
       "      <th>zip</th>\n",
       "    </tr>\n",
       "  </thead>\n",
       "  <tbody>\n",
       "    <tr>\n",
       "      <td>0</td>\n",
       "      <td>f8e86d9a-d9ed-47c2-88e1-b390fe6b109a</td>\n",
       "      <td>54111.0</td>\n",
       "      <td>75426</td>\n",
       "    </tr>\n",
       "    <tr>\n",
       "      <td>1</td>\n",
       "      <td>09c31a00-d56e-44f0-971d-a83ed564bdd6</td>\n",
       "      <td>561720.0</td>\n",
       "      <td>24202</td>\n",
       "    </tr>\n",
       "    <tr>\n",
       "      <td>2</td>\n",
       "      <td>a42adbd7-0708-41e0-8e34-276c3184e69f</td>\n",
       "      <td>54111.0</td>\n",
       "      <td>90012</td>\n",
       "    </tr>\n",
       "    <tr>\n",
       "      <td>3</td>\n",
       "      <td>43b94f79-00f1-43ed-af63-316fc34329b4</td>\n",
       "      <td>NaN</td>\n",
       "      <td>04915</td>\n",
       "    </tr>\n",
       "    <tr>\n",
       "      <td>4</td>\n",
       "      <td>0bf5da35-890f-42e0-875f-5cb41d5013dc</td>\n",
       "      <td>NaN</td>\n",
       "      <td>78132</td>\n",
       "    </tr>\n",
       "    <tr>\n",
       "      <td>5</td>\n",
       "      <td>d695bb51-c83b-4ca3-9139-7a541393fd8e</td>\n",
       "      <td>6211.0</td>\n",
       "      <td>75390</td>\n",
       "    </tr>\n",
       "    <tr>\n",
       "      <td>6</td>\n",
       "      <td>6b27f480-a8f4-4fc8-9da4-a1af353a1a01</td>\n",
       "      <td>522110.0</td>\n",
       "      <td>20110</td>\n",
       "    </tr>\n",
       "    <tr>\n",
       "      <td>7</td>\n",
       "      <td>80bd6a28-5123-4eb2-9bfa-db8ae7e23de1</td>\n",
       "      <td>54111.0</td>\n",
       "      <td>91910</td>\n",
       "    </tr>\n",
       "    <tr>\n",
       "      <td>8</td>\n",
       "      <td>c1de2642-7c2e-441f-8b0e-8b21fc45b557</td>\n",
       "      <td>54111.0</td>\n",
       "      <td>94043</td>\n",
       "    </tr>\n",
       "    <tr>\n",
       "      <td>9</td>\n",
       "      <td>b511581a-5355-4304-bb64-c4abd042fa7e</td>\n",
       "      <td>54111.0</td>\n",
       "      <td>95833</td>\n",
       "    </tr>\n",
       "  </tbody>\n",
       "</table>\n",
       "</div>"
      ],
      "text/plain": [
       "                                   UUID      Code    zip\n",
       "0  f8e86d9a-d9ed-47c2-88e1-b390fe6b109a   54111.0  75426\n",
       "1  09c31a00-d56e-44f0-971d-a83ed564bdd6  561720.0  24202\n",
       "2  a42adbd7-0708-41e0-8e34-276c3184e69f   54111.0  90012\n",
       "3  43b94f79-00f1-43ed-af63-316fc34329b4       NaN  04915\n",
       "4  0bf5da35-890f-42e0-875f-5cb41d5013dc       NaN  78132\n",
       "5  d695bb51-c83b-4ca3-9139-7a541393fd8e    6211.0  75390\n",
       "6  6b27f480-a8f4-4fc8-9da4-a1af353a1a01  522110.0  20110\n",
       "7  80bd6a28-5123-4eb2-9bfa-db8ae7e23de1   54111.0  91910\n",
       "8  c1de2642-7c2e-441f-8b0e-8b21fc45b557   54111.0  94043\n",
       "9  b511581a-5355-4304-bb64-c4abd042fa7e   54111.0  95833"
      ]
     },
     "execution_count": 4,
     "metadata": {},
     "output_type": "execute_result"
    }
   ],
   "source": [
    "businesses.head(10)"
   ]
  },
  {
   "cell_type": "markdown",
   "metadata": {},
   "source": [
    "Fill in NaN's in Code column with 99 (unknown) in order to change from float to int"
   ]
  },
  {
   "cell_type": "code",
   "execution_count": 5,
   "metadata": {},
   "outputs": [],
   "source": [
    "businesses.fillna(99, inplace = True)"
   ]
  },
  {
   "cell_type": "code",
   "execution_count": 6,
   "metadata": {},
   "outputs": [
    {
     "data": {
      "text/html": [
       "<div>\n",
       "<style scoped>\n",
       "    .dataframe tbody tr th:only-of-type {\n",
       "        vertical-align: middle;\n",
       "    }\n",
       "\n",
       "    .dataframe tbody tr th {\n",
       "        vertical-align: top;\n",
       "    }\n",
       "\n",
       "    .dataframe thead th {\n",
       "        text-align: right;\n",
       "    }\n",
       "</style>\n",
       "<table border=\"1\" class=\"dataframe\">\n",
       "  <thead>\n",
       "    <tr style=\"text-align: right;\">\n",
       "      <th></th>\n",
       "      <th>UUID</th>\n",
       "      <th>Code</th>\n",
       "      <th>zip</th>\n",
       "    </tr>\n",
       "  </thead>\n",
       "  <tbody>\n",
       "    <tr>\n",
       "      <td>0</td>\n",
       "      <td>f8e86d9a-d9ed-47c2-88e1-b390fe6b109a</td>\n",
       "      <td>54111.0</td>\n",
       "      <td>75426</td>\n",
       "    </tr>\n",
       "    <tr>\n",
       "      <td>1</td>\n",
       "      <td>09c31a00-d56e-44f0-971d-a83ed564bdd6</td>\n",
       "      <td>561720.0</td>\n",
       "      <td>24202</td>\n",
       "    </tr>\n",
       "    <tr>\n",
       "      <td>2</td>\n",
       "      <td>a42adbd7-0708-41e0-8e34-276c3184e69f</td>\n",
       "      <td>54111.0</td>\n",
       "      <td>90012</td>\n",
       "    </tr>\n",
       "    <tr>\n",
       "      <td>3</td>\n",
       "      <td>43b94f79-00f1-43ed-af63-316fc34329b4</td>\n",
       "      <td>99.0</td>\n",
       "      <td>04915</td>\n",
       "    </tr>\n",
       "    <tr>\n",
       "      <td>4</td>\n",
       "      <td>0bf5da35-890f-42e0-875f-5cb41d5013dc</td>\n",
       "      <td>99.0</td>\n",
       "      <td>78132</td>\n",
       "    </tr>\n",
       "  </tbody>\n",
       "</table>\n",
       "</div>"
      ],
      "text/plain": [
       "                                   UUID      Code    zip\n",
       "0  f8e86d9a-d9ed-47c2-88e1-b390fe6b109a   54111.0  75426\n",
       "1  09c31a00-d56e-44f0-971d-a83ed564bdd6  561720.0  24202\n",
       "2  a42adbd7-0708-41e0-8e34-276c3184e69f   54111.0  90012\n",
       "3  43b94f79-00f1-43ed-af63-316fc34329b4      99.0  04915\n",
       "4  0bf5da35-890f-42e0-875f-5cb41d5013dc      99.0  78132"
      ]
     },
     "execution_count": 6,
     "metadata": {},
     "output_type": "execute_result"
    }
   ],
   "source": [
    "businesses.head()"
   ]
  },
  {
   "cell_type": "markdown",
   "metadata": {},
   "source": [
    "Now, change float to int for Code column."
   ]
  },
  {
   "cell_type": "code",
   "execution_count": 7,
   "metadata": {},
   "outputs": [],
   "source": [
    "businesses = businesses.astype({'Code':int})"
   ]
  },
  {
   "cell_type": "markdown",
   "metadata": {},
   "source": [
    "Function for taking first two digits of a number"
   ]
  },
  {
   "cell_type": "code",
   "execution_count": 8,
   "metadata": {},
   "outputs": [],
   "source": [
    "import math\n",
    "\n",
    "def first_two(d):                \n",
    "     return (d // 10 ** (int(math.log(d, 10)) - 1))"
   ]
  },
  {
   "cell_type": "markdown",
   "metadata": {},
   "source": [
    "Extract first two digits of Code column"
   ]
  },
  {
   "cell_type": "code",
   "execution_count": 9,
   "metadata": {},
   "outputs": [],
   "source": [
    "businesses.Code = businesses.Code.apply(lambda x: first_two(x))"
   ]
  },
  {
   "cell_type": "code",
   "execution_count": 10,
   "metadata": {},
   "outputs": [
    {
     "data": {
      "text/html": [
       "<div>\n",
       "<style scoped>\n",
       "    .dataframe tbody tr th:only-of-type {\n",
       "        vertical-align: middle;\n",
       "    }\n",
       "\n",
       "    .dataframe tbody tr th {\n",
       "        vertical-align: top;\n",
       "    }\n",
       "\n",
       "    .dataframe thead th {\n",
       "        text-align: right;\n",
       "    }\n",
       "</style>\n",
       "<table border=\"1\" class=\"dataframe\">\n",
       "  <thead>\n",
       "    <tr style=\"text-align: right;\">\n",
       "      <th></th>\n",
       "      <th>UUID</th>\n",
       "      <th>Code</th>\n",
       "      <th>zip</th>\n",
       "    </tr>\n",
       "  </thead>\n",
       "  <tbody>\n",
       "    <tr>\n",
       "      <td>0</td>\n",
       "      <td>f8e86d9a-d9ed-47c2-88e1-b390fe6b109a</td>\n",
       "      <td>54</td>\n",
       "      <td>75426</td>\n",
       "    </tr>\n",
       "    <tr>\n",
       "      <td>1</td>\n",
       "      <td>09c31a00-d56e-44f0-971d-a83ed564bdd6</td>\n",
       "      <td>56</td>\n",
       "      <td>24202</td>\n",
       "    </tr>\n",
       "    <tr>\n",
       "      <td>2</td>\n",
       "      <td>a42adbd7-0708-41e0-8e34-276c3184e69f</td>\n",
       "      <td>54</td>\n",
       "      <td>90012</td>\n",
       "    </tr>\n",
       "    <tr>\n",
       "      <td>3</td>\n",
       "      <td>43b94f79-00f1-43ed-af63-316fc34329b4</td>\n",
       "      <td>99</td>\n",
       "      <td>04915</td>\n",
       "    </tr>\n",
       "    <tr>\n",
       "      <td>4</td>\n",
       "      <td>0bf5da35-890f-42e0-875f-5cb41d5013dc</td>\n",
       "      <td>99</td>\n",
       "      <td>78132</td>\n",
       "    </tr>\n",
       "  </tbody>\n",
       "</table>\n",
       "</div>"
      ],
      "text/plain": [
       "                                   UUID  Code    zip\n",
       "0  f8e86d9a-d9ed-47c2-88e1-b390fe6b109a    54  75426\n",
       "1  09c31a00-d56e-44f0-971d-a83ed564bdd6    56  24202\n",
       "2  a42adbd7-0708-41e0-8e34-276c3184e69f    54  90012\n",
       "3  43b94f79-00f1-43ed-af63-316fc34329b4    99  04915\n",
       "4  0bf5da35-890f-42e0-875f-5cb41d5013dc    99  78132"
      ]
     },
     "execution_count": 10,
     "metadata": {},
     "output_type": "execute_result"
    }
   ],
   "source": [
    "businesses.head()"
   ]
  },
  {
   "cell_type": "markdown",
   "metadata": {},
   "source": [
    "Read naics_codes.txt"
   ]
  },
  {
   "cell_type": "code",
   "execution_count": 11,
   "metadata": {},
   "outputs": [],
   "source": [
    "naics = pd.read_csv('naics_codes.txt', delimiter = '\t', header = 0)"
   ]
  },
  {
   "cell_type": "code",
   "execution_count": 12,
   "metadata": {},
   "outputs": [
    {
     "data": {
      "text/html": [
       "<div>\n",
       "<style scoped>\n",
       "    .dataframe tbody tr th:only-of-type {\n",
       "        vertical-align: middle;\n",
       "    }\n",
       "\n",
       "    .dataframe tbody tr th {\n",
       "        vertical-align: top;\n",
       "    }\n",
       "\n",
       "    .dataframe thead th {\n",
       "        text-align: right;\n",
       "    }\n",
       "</style>\n",
       "<table border=\"1\" class=\"dataframe\">\n",
       "  <thead>\n",
       "    <tr style=\"text-align: right;\">\n",
       "      <th></th>\n",
       "      <th>Code</th>\n",
       "      <th>Title</th>\n",
       "      <th>Abbreviation</th>\n",
       "    </tr>\n",
       "  </thead>\n",
       "  <tbody>\n",
       "    <tr>\n",
       "      <td>0</td>\n",
       "      <td>11</td>\n",
       "      <td>Agriculture, Forestry, Fishing and Hunting</td>\n",
       "      <td>Agriculture</td>\n",
       "    </tr>\n",
       "    <tr>\n",
       "      <td>1</td>\n",
       "      <td>21</td>\n",
       "      <td>Mining, Quarrying, and Oil and Gas Extraction</td>\n",
       "      <td>Oil&amp;Gas</td>\n",
       "    </tr>\n",
       "    <tr>\n",
       "      <td>2</td>\n",
       "      <td>22</td>\n",
       "      <td>Utilities</td>\n",
       "      <td>Utilities</td>\n",
       "    </tr>\n",
       "    <tr>\n",
       "      <td>3</td>\n",
       "      <td>23</td>\n",
       "      <td>Construction</td>\n",
       "      <td>Construction</td>\n",
       "    </tr>\n",
       "    <tr>\n",
       "      <td>4</td>\n",
       "      <td>31</td>\n",
       "      <td>Manufacturing</td>\n",
       "      <td>Manufacturing</td>\n",
       "    </tr>\n",
       "    <tr>\n",
       "      <td>5</td>\n",
       "      <td>32</td>\n",
       "      <td>Manufacturing</td>\n",
       "      <td>Manufacturing</td>\n",
       "    </tr>\n",
       "    <tr>\n",
       "      <td>6</td>\n",
       "      <td>33</td>\n",
       "      <td>Manufacturing</td>\n",
       "      <td>Manufacturing</td>\n",
       "    </tr>\n",
       "    <tr>\n",
       "      <td>7</td>\n",
       "      <td>42</td>\n",
       "      <td>Wholesale Trade</td>\n",
       "      <td>Wholesale</td>\n",
       "    </tr>\n",
       "    <tr>\n",
       "      <td>8</td>\n",
       "      <td>44</td>\n",
       "      <td>Retail Trade</td>\n",
       "      <td>Retail</td>\n",
       "    </tr>\n",
       "    <tr>\n",
       "      <td>9</td>\n",
       "      <td>45</td>\n",
       "      <td>Retail Trade</td>\n",
       "      <td>Retail</td>\n",
       "    </tr>\n",
       "    <tr>\n",
       "      <td>10</td>\n",
       "      <td>48</td>\n",
       "      <td>Transportation and Warehousing</td>\n",
       "      <td>Transportation</td>\n",
       "    </tr>\n",
       "    <tr>\n",
       "      <td>11</td>\n",
       "      <td>49</td>\n",
       "      <td>Transportation and Warehousing</td>\n",
       "      <td>Transportation</td>\n",
       "    </tr>\n",
       "    <tr>\n",
       "      <td>12</td>\n",
       "      <td>51</td>\n",
       "      <td>Information</td>\n",
       "      <td>Information</td>\n",
       "    </tr>\n",
       "    <tr>\n",
       "      <td>13</td>\n",
       "      <td>52</td>\n",
       "      <td>Finance and Insurance</td>\n",
       "      <td>Finance/Insurance</td>\n",
       "    </tr>\n",
       "    <tr>\n",
       "      <td>14</td>\n",
       "      <td>53</td>\n",
       "      <td>Real Estate and Rental and Leasing</td>\n",
       "      <td>Real Estate</td>\n",
       "    </tr>\n",
       "    <tr>\n",
       "      <td>15</td>\n",
       "      <td>54</td>\n",
       "      <td>Professional, Scientific, and Technical Services</td>\n",
       "      <td>Tech Services</td>\n",
       "    </tr>\n",
       "    <tr>\n",
       "      <td>16</td>\n",
       "      <td>55</td>\n",
       "      <td>Management of Companies and Enterprises</td>\n",
       "      <td>Management</td>\n",
       "    </tr>\n",
       "    <tr>\n",
       "      <td>17</td>\n",
       "      <td>56</td>\n",
       "      <td>Administrative and Support and Waste Managemen...</td>\n",
       "      <td>Administrative</td>\n",
       "    </tr>\n",
       "    <tr>\n",
       "      <td>18</td>\n",
       "      <td>61</td>\n",
       "      <td>Educational Services</td>\n",
       "      <td>Education</td>\n",
       "    </tr>\n",
       "    <tr>\n",
       "      <td>19</td>\n",
       "      <td>62</td>\n",
       "      <td>Health Care and Social Assistance</td>\n",
       "      <td>Health Care</td>\n",
       "    </tr>\n",
       "    <tr>\n",
       "      <td>20</td>\n",
       "      <td>71</td>\n",
       "      <td>Arts, Entertainment, and Recreation</td>\n",
       "      <td>Arts</td>\n",
       "    </tr>\n",
       "    <tr>\n",
       "      <td>21</td>\n",
       "      <td>72</td>\n",
       "      <td>Accommodation and Food Services</td>\n",
       "      <td>Food/Lodging</td>\n",
       "    </tr>\n",
       "    <tr>\n",
       "      <td>22</td>\n",
       "      <td>81</td>\n",
       "      <td>Other Services (except Public Administration)</td>\n",
       "      <td>Other</td>\n",
       "    </tr>\n",
       "    <tr>\n",
       "      <td>23</td>\n",
       "      <td>92</td>\n",
       "      <td>Public Administration</td>\n",
       "      <td>Public Admin</td>\n",
       "    </tr>\n",
       "    <tr>\n",
       "      <td>24</td>\n",
       "      <td>99</td>\n",
       "      <td>Unknown</td>\n",
       "      <td>Unknown</td>\n",
       "    </tr>\n",
       "  </tbody>\n",
       "</table>\n",
       "</div>"
      ],
      "text/plain": [
       "    Code                                              Title       Abbreviation\n",
       "0     11         Agriculture, Forestry, Fishing and Hunting        Agriculture\n",
       "1     21      Mining, Quarrying, and Oil and Gas Extraction            Oil&Gas\n",
       "2     22                                          Utilities          Utilities\n",
       "3     23                                       Construction       Construction\n",
       "4     31                                      Manufacturing      Manufacturing\n",
       "5     32                                      Manufacturing      Manufacturing\n",
       "6     33                                      Manufacturing      Manufacturing\n",
       "7     42                                    Wholesale Trade          Wholesale\n",
       "8     44                                       Retail Trade             Retail\n",
       "9     45                                       Retail Trade             Retail\n",
       "10    48                     Transportation and Warehousing     Transportation\n",
       "11    49                     Transportation and Warehousing     Transportation\n",
       "12    51                                        Information        Information\n",
       "13    52                              Finance and Insurance  Finance/Insurance\n",
       "14    53                 Real Estate and Rental and Leasing        Real Estate\n",
       "15    54   Professional, Scientific, and Technical Services      Tech Services\n",
       "16    55            Management of Companies and Enterprises         Management\n",
       "17    56  Administrative and Support and Waste Managemen...     Administrative\n",
       "18    61                               Educational Services          Education\n",
       "19    62                  Health Care and Social Assistance        Health Care\n",
       "20    71                Arts, Entertainment, and Recreation               Arts\n",
       "21    72                    Accommodation and Food Services       Food/Lodging\n",
       "22    81      Other Services (except Public Administration)              Other\n",
       "23    92                              Public Administration       Public Admin\n",
       "24    99                                            Unknown            Unknown"
      ]
     },
     "execution_count": 12,
     "metadata": {},
     "output_type": "execute_result"
    }
   ],
   "source": [
    "naics.head(25)"
   ]
  },
  {
   "cell_type": "markdown",
   "metadata": {},
   "source": [
    "Read zip_demographics.txt with special delimiter and header row using zip as index"
   ]
  },
  {
   "cell_type": "code",
   "execution_count": 13,
   "metadata": {},
   "outputs": [],
   "source": [
    "types = {'zip':str}\n",
    "zips = pd.read_csv('zip_demographics.txt', delimiter = '\t', header = 0, dtype = types)"
   ]
  },
  {
   "cell_type": "code",
   "execution_count": 14,
   "metadata": {},
   "outputs": [
    {
     "name": "stdout",
     "output_type": "stream",
     "text": [
      "<class 'pandas.core.frame.DataFrame'>\n",
      "RangeIndex: 32627 entries, 0 to 32626\n",
      "Data columns (total 5 columns):\n",
      "zip              32627 non-null object\n",
      "state            32627 non-null object\n",
      "mean_income      32627 non-null int64\n",
      "median_income    32627 non-null int64\n",
      "population       32627 non-null int64\n",
      "dtypes: int64(3), object(2)\n",
      "memory usage: 1019.7+ KB\n"
     ]
    }
   ],
   "source": [
    "zips.info()"
   ]
  },
  {
   "cell_type": "code",
   "execution_count": 15,
   "metadata": {},
   "outputs": [
    {
     "data": {
      "text/html": [
       "<div>\n",
       "<style scoped>\n",
       "    .dataframe tbody tr th:only-of-type {\n",
       "        vertical-align: middle;\n",
       "    }\n",
       "\n",
       "    .dataframe tbody tr th {\n",
       "        vertical-align: top;\n",
       "    }\n",
       "\n",
       "    .dataframe thead th {\n",
       "        text-align: right;\n",
       "    }\n",
       "</style>\n",
       "<table border=\"1\" class=\"dataframe\">\n",
       "  <thead>\n",
       "    <tr style=\"text-align: right;\">\n",
       "      <th></th>\n",
       "      <th>zip</th>\n",
       "      <th>state</th>\n",
       "      <th>mean_income</th>\n",
       "      <th>median_income</th>\n",
       "      <th>population</th>\n",
       "    </tr>\n",
       "  </thead>\n",
       "  <tbody>\n",
       "    <tr>\n",
       "      <td>0</td>\n",
       "      <td>01001</td>\n",
       "      <td>MA</td>\n",
       "      <td>56663</td>\n",
       "      <td>66688</td>\n",
       "      <td>16445</td>\n",
       "    </tr>\n",
       "    <tr>\n",
       "      <td>1</td>\n",
       "      <td>01002</td>\n",
       "      <td>MA</td>\n",
       "      <td>49853</td>\n",
       "      <td>75063</td>\n",
       "      <td>28069</td>\n",
       "    </tr>\n",
       "    <tr>\n",
       "      <td>2</td>\n",
       "      <td>01003</td>\n",
       "      <td>MA</td>\n",
       "      <td>28462</td>\n",
       "      <td>35121</td>\n",
       "      <td>8491</td>\n",
       "    </tr>\n",
       "    <tr>\n",
       "      <td>3</td>\n",
       "      <td>01005</td>\n",
       "      <td>MA</td>\n",
       "      <td>75423</td>\n",
       "      <td>82442</td>\n",
       "      <td>4798</td>\n",
       "    </tr>\n",
       "    <tr>\n",
       "      <td>4</td>\n",
       "      <td>01007</td>\n",
       "      <td>MA</td>\n",
       "      <td>79076</td>\n",
       "      <td>85802</td>\n",
       "      <td>12962</td>\n",
       "    </tr>\n",
       "  </tbody>\n",
       "</table>\n",
       "</div>"
      ],
      "text/plain": [
       "     zip state  mean_income  median_income  population\n",
       "0  01001    MA        56663          66688       16445\n",
       "1  01002    MA        49853          75063       28069\n",
       "2  01003    MA        28462          35121        8491\n",
       "3  01005    MA        75423          82442        4798\n",
       "4  01007    MA        79076          85802       12962"
      ]
     },
     "execution_count": 15,
     "metadata": {},
     "output_type": "execute_result"
    }
   ],
   "source": [
    "zips.head()"
   ]
  },
  {
   "cell_type": "markdown",
   "metadata": {},
   "source": [
    "I also wanted to make sure that the income columns had values that made sense. For example, a negative median income would show some sort of mistake in the dataset. On the other hand, a ridiculously high income might also be suspect.\n",
    "\n",
    "The below values seem reasonable. The minimum for mean income and median income are very low but this seems valid because there are zip codes that have only a few people and a majority of those people may not have an income at all. "
   ]
  },
  {
   "cell_type": "code",
   "execution_count": 16,
   "metadata": {},
   "outputs": [
    {
     "data": {
      "text/plain": [
       "223106"
      ]
     },
     "execution_count": 16,
     "metadata": {},
     "output_type": "execute_result"
    }
   ],
   "source": [
    "zips.mean_income.max()"
   ]
  },
  {
   "cell_type": "code",
   "execution_count": 17,
   "metadata": {},
   "outputs": [
    {
     "data": {
      "text/plain": [
       "33"
      ]
     },
     "execution_count": 17,
     "metadata": {},
     "output_type": "execute_result"
    }
   ],
   "source": [
    "zips.mean_income.min()"
   ]
  },
  {
   "cell_type": "code",
   "execution_count": 18,
   "metadata": {},
   "outputs": [
    {
     "data": {
      "text/plain": [
       "361842"
      ]
     },
     "execution_count": 18,
     "metadata": {},
     "output_type": "execute_result"
    }
   ],
   "source": [
    "zips.median_income.max()"
   ]
  },
  {
   "cell_type": "code",
   "execution_count": 19,
   "metadata": {},
   "outputs": [
    {
     "data": {
      "text/plain": [
       "54"
      ]
     },
     "execution_count": 19,
     "metadata": {},
     "output_type": "execute_result"
    }
   ],
   "source": [
    "zips.median_income.min()"
   ]
  },
  {
   "cell_type": "code",
   "execution_count": 20,
   "metadata": {},
   "outputs": [
    {
     "data": {
      "text/plain": [
       "1"
      ]
     },
     "execution_count": 20,
     "metadata": {},
     "output_type": "execute_result"
    }
   ],
   "source": [
    "zips.population.min()"
   ]
  },
  {
   "cell_type": "markdown",
   "metadata": {},
   "source": [
    "Merge businesses DF with NAICS DF. First, need to name column in businesses to 'Code' (see above). Then, need to extract the first two digits off the NAICS code."
   ]
  },
  {
   "cell_type": "code",
   "execution_count": 21,
   "metadata": {},
   "outputs": [],
   "source": [
    "bCodes = pd.merge(businesses, naics, on = 'Code', how = 'left')"
   ]
  },
  {
   "cell_type": "code",
   "execution_count": 22,
   "metadata": {},
   "outputs": [
    {
     "name": "stdout",
     "output_type": "stream",
     "text": [
      "<class 'pandas.core.frame.DataFrame'>\n",
      "Int64Index: 935626 entries, 0 to 935625\n",
      "Data columns (total 5 columns):\n",
      "UUID            935626 non-null object\n",
      "Code            935626 non-null int64\n",
      "zip             935626 non-null object\n",
      "Title           935626 non-null object\n",
      "Abbreviation    935626 non-null object\n",
      "dtypes: int64(1), object(4)\n",
      "memory usage: 28.6+ MB\n"
     ]
    }
   ],
   "source": [
    "bCodes.info()"
   ]
  },
  {
   "cell_type": "code",
   "execution_count": 23,
   "metadata": {
    "scrolled": true
   },
   "outputs": [
    {
     "data": {
      "text/html": [
       "<div>\n",
       "<style scoped>\n",
       "    .dataframe tbody tr th:only-of-type {\n",
       "        vertical-align: middle;\n",
       "    }\n",
       "\n",
       "    .dataframe tbody tr th {\n",
       "        vertical-align: top;\n",
       "    }\n",
       "\n",
       "    .dataframe thead th {\n",
       "        text-align: right;\n",
       "    }\n",
       "</style>\n",
       "<table border=\"1\" class=\"dataframe\">\n",
       "  <thead>\n",
       "    <tr style=\"text-align: right;\">\n",
       "      <th></th>\n",
       "      <th>UUID</th>\n",
       "      <th>Code</th>\n",
       "      <th>zip</th>\n",
       "      <th>Title</th>\n",
       "      <th>Abbreviation</th>\n",
       "    </tr>\n",
       "  </thead>\n",
       "  <tbody>\n",
       "    <tr>\n",
       "      <td>0</td>\n",
       "      <td>f8e86d9a-d9ed-47c2-88e1-b390fe6b109a</td>\n",
       "      <td>54</td>\n",
       "      <td>75426</td>\n",
       "      <td>Professional, Scientific, and Technical Services</td>\n",
       "      <td>Tech Services</td>\n",
       "    </tr>\n",
       "    <tr>\n",
       "      <td>1</td>\n",
       "      <td>09c31a00-d56e-44f0-971d-a83ed564bdd6</td>\n",
       "      <td>56</td>\n",
       "      <td>24202</td>\n",
       "      <td>Administrative and Support and Waste Managemen...</td>\n",
       "      <td>Administrative</td>\n",
       "    </tr>\n",
       "    <tr>\n",
       "      <td>2</td>\n",
       "      <td>a42adbd7-0708-41e0-8e34-276c3184e69f</td>\n",
       "      <td>54</td>\n",
       "      <td>90012</td>\n",
       "      <td>Professional, Scientific, and Technical Services</td>\n",
       "      <td>Tech Services</td>\n",
       "    </tr>\n",
       "    <tr>\n",
       "      <td>3</td>\n",
       "      <td>43b94f79-00f1-43ed-af63-316fc34329b4</td>\n",
       "      <td>99</td>\n",
       "      <td>04915</td>\n",
       "      <td>Unknown</td>\n",
       "      <td>Unknown</td>\n",
       "    </tr>\n",
       "    <tr>\n",
       "      <td>4</td>\n",
       "      <td>0bf5da35-890f-42e0-875f-5cb41d5013dc</td>\n",
       "      <td>99</td>\n",
       "      <td>78132</td>\n",
       "      <td>Unknown</td>\n",
       "      <td>Unknown</td>\n",
       "    </tr>\n",
       "  </tbody>\n",
       "</table>\n",
       "</div>"
      ],
      "text/plain": [
       "                                   UUID  Code    zip  \\\n",
       "0  f8e86d9a-d9ed-47c2-88e1-b390fe6b109a    54  75426   \n",
       "1  09c31a00-d56e-44f0-971d-a83ed564bdd6    56  24202   \n",
       "2  a42adbd7-0708-41e0-8e34-276c3184e69f    54  90012   \n",
       "3  43b94f79-00f1-43ed-af63-316fc34329b4    99  04915   \n",
       "4  0bf5da35-890f-42e0-875f-5cb41d5013dc    99  78132   \n",
       "\n",
       "                                               Title    Abbreviation  \n",
       "0   Professional, Scientific, and Technical Services   Tech Services  \n",
       "1  Administrative and Support and Waste Managemen...  Administrative  \n",
       "2   Professional, Scientific, and Technical Services   Tech Services  \n",
       "3                                            Unknown         Unknown  \n",
       "4                                            Unknown         Unknown  "
      ]
     },
     "execution_count": 23,
     "metadata": {},
     "output_type": "execute_result"
    }
   ],
   "source": [
    "bCodes.head()"
   ]
  },
  {
   "cell_type": "markdown",
   "metadata": {},
   "source": [
    "We must also check that the businesses all have valid NAICS codes. \n",
    "\n",
    "Since we did a left outer join on businesses and NAICS, a business with an invalid NAICS code would have a null title. Since we don't have this, we know that all the given codes are valid."
   ]
  },
  {
   "cell_type": "code",
   "execution_count": 24,
   "metadata": {},
   "outputs": [
    {
     "data": {
      "text/plain": [
       "0"
      ]
     },
     "execution_count": 24,
     "metadata": {},
     "output_type": "execute_result"
    }
   ],
   "source": [
    "sum(pd.isnull(bCodes.Title))"
   ]
  },
  {
   "cell_type": "markdown",
   "metadata": {},
   "source": [
    "Merge bCodes with zip code dataset"
   ]
  },
  {
   "cell_type": "code",
   "execution_count": 25,
   "metadata": {},
   "outputs": [],
   "source": [
    "bCodeZip = pd.merge(bCodes, zips, on = 'zip', how = 'left')"
   ]
  },
  {
   "cell_type": "code",
   "execution_count": 26,
   "metadata": {},
   "outputs": [
    {
     "name": "stdout",
     "output_type": "stream",
     "text": [
      "<class 'pandas.core.frame.DataFrame'>\n",
      "Int64Index: 935626 entries, 0 to 935625\n",
      "Data columns (total 9 columns):\n",
      "UUID             935626 non-null object\n",
      "Code             935626 non-null int64\n",
      "zip              935626 non-null object\n",
      "Title            935626 non-null object\n",
      "Abbreviation     935626 non-null object\n",
      "state            922769 non-null object\n",
      "mean_income      922769 non-null float64\n",
      "median_income    922769 non-null float64\n",
      "population       922769 non-null float64\n",
      "dtypes: float64(3), int64(1), object(5)\n",
      "memory usage: 53.5+ MB\n"
     ]
    }
   ],
   "source": [
    "bCodeZip.info()"
   ]
  },
  {
   "cell_type": "code",
   "execution_count": 27,
   "metadata": {},
   "outputs": [
    {
     "data": {
      "text/html": [
       "<div>\n",
       "<style scoped>\n",
       "    .dataframe tbody tr th:only-of-type {\n",
       "        vertical-align: middle;\n",
       "    }\n",
       "\n",
       "    .dataframe tbody tr th {\n",
       "        vertical-align: top;\n",
       "    }\n",
       "\n",
       "    .dataframe thead th {\n",
       "        text-align: right;\n",
       "    }\n",
       "</style>\n",
       "<table border=\"1\" class=\"dataframe\">\n",
       "  <thead>\n",
       "    <tr style=\"text-align: right;\">\n",
       "      <th></th>\n",
       "      <th>UUID</th>\n",
       "      <th>Code</th>\n",
       "      <th>zip</th>\n",
       "      <th>Title</th>\n",
       "      <th>Abbreviation</th>\n",
       "      <th>state</th>\n",
       "      <th>mean_income</th>\n",
       "      <th>median_income</th>\n",
       "      <th>population</th>\n",
       "    </tr>\n",
       "  </thead>\n",
       "  <tbody>\n",
       "    <tr>\n",
       "      <td>0</td>\n",
       "      <td>f8e86d9a-d9ed-47c2-88e1-b390fe6b109a</td>\n",
       "      <td>54</td>\n",
       "      <td>75426</td>\n",
       "      <td>Professional, Scientific, and Technical Services</td>\n",
       "      <td>Tech Services</td>\n",
       "      <td>TX</td>\n",
       "      <td>33016.0</td>\n",
       "      <td>40449.0</td>\n",
       "      <td>5301.0</td>\n",
       "    </tr>\n",
       "    <tr>\n",
       "      <td>1</td>\n",
       "      <td>09c31a00-d56e-44f0-971d-a83ed564bdd6</td>\n",
       "      <td>56</td>\n",
       "      <td>24202</td>\n",
       "      <td>Administrative and Support and Waste Managemen...</td>\n",
       "      <td>Administrative</td>\n",
       "      <td>VA</td>\n",
       "      <td>43632.0</td>\n",
       "      <td>61127.0</td>\n",
       "      <td>12905.0</td>\n",
       "    </tr>\n",
       "    <tr>\n",
       "      <td>2</td>\n",
       "      <td>a42adbd7-0708-41e0-8e34-276c3184e69f</td>\n",
       "      <td>54</td>\n",
       "      <td>90012</td>\n",
       "      <td>Professional, Scientific, and Technical Services</td>\n",
       "      <td>Tech Services</td>\n",
       "      <td>CA</td>\n",
       "      <td>39775.0</td>\n",
       "      <td>45188.0</td>\n",
       "      <td>27522.0</td>\n",
       "    </tr>\n",
       "    <tr>\n",
       "      <td>3</td>\n",
       "      <td>43b94f79-00f1-43ed-af63-316fc34329b4</td>\n",
       "      <td>99</td>\n",
       "      <td>04915</td>\n",
       "      <td>Unknown</td>\n",
       "      <td>Unknown</td>\n",
       "      <td>ME</td>\n",
       "      <td>39499.0</td>\n",
       "      <td>50227.0</td>\n",
       "      <td>8468.0</td>\n",
       "    </tr>\n",
       "    <tr>\n",
       "      <td>4</td>\n",
       "      <td>0bf5da35-890f-42e0-875f-5cb41d5013dc</td>\n",
       "      <td>99</td>\n",
       "      <td>78132</td>\n",
       "      <td>Unknown</td>\n",
       "      <td>Unknown</td>\n",
       "      <td>TX</td>\n",
       "      <td>84926.0</td>\n",
       "      <td>103939.0</td>\n",
       "      <td>19139.0</td>\n",
       "    </tr>\n",
       "  </tbody>\n",
       "</table>\n",
       "</div>"
      ],
      "text/plain": [
       "                                   UUID  Code    zip  \\\n",
       "0  f8e86d9a-d9ed-47c2-88e1-b390fe6b109a    54  75426   \n",
       "1  09c31a00-d56e-44f0-971d-a83ed564bdd6    56  24202   \n",
       "2  a42adbd7-0708-41e0-8e34-276c3184e69f    54  90012   \n",
       "3  43b94f79-00f1-43ed-af63-316fc34329b4    99  04915   \n",
       "4  0bf5da35-890f-42e0-875f-5cb41d5013dc    99  78132   \n",
       "\n",
       "                                               Title    Abbreviation state  \\\n",
       "0   Professional, Scientific, and Technical Services   Tech Services    TX   \n",
       "1  Administrative and Support and Waste Managemen...  Administrative    VA   \n",
       "2   Professional, Scientific, and Technical Services   Tech Services    CA   \n",
       "3                                            Unknown         Unknown    ME   \n",
       "4                                            Unknown         Unknown    TX   \n",
       "\n",
       "   mean_income  median_income  population  \n",
       "0      33016.0        40449.0      5301.0  \n",
       "1      43632.0        61127.0     12905.0  \n",
       "2      39775.0        45188.0     27522.0  \n",
       "3      39499.0        50227.0      8468.0  \n",
       "4      84926.0       103939.0     19139.0  "
      ]
     },
     "execution_count": 27,
     "metadata": {},
     "output_type": "execute_result"
    }
   ],
   "source": [
    "bCodeZip.head()"
   ]
  },
  {
   "cell_type": "markdown",
   "metadata": {},
   "source": [
    "Check to see if there are any null values in the state column. Since we used a left outer join, a null state value would mean that that particular entry had an invalid zip code."
   ]
  },
  {
   "cell_type": "code",
   "execution_count": 28,
   "metadata": {
    "scrolled": true
   },
   "outputs": [
    {
     "data": {
      "text/plain": [
       "12857"
      ]
     },
     "execution_count": 28,
     "metadata": {},
     "output_type": "execute_result"
    }
   ],
   "source": [
    "sum(pd.isnull(bCodeZip.state))"
   ]
  },
  {
   "cell_type": "markdown",
   "metadata": {},
   "source": [
    "We had 12,857 entries with invalid zip codes. Some had letters in them and other just did not match with our zip dataset."
   ]
  },
  {
   "cell_type": "code",
   "execution_count": 29,
   "metadata": {
    "scrolled": false
   },
   "outputs": [
    {
     "data": {
      "text/html": [
       "<div>\n",
       "<style scoped>\n",
       "    .dataframe tbody tr th:only-of-type {\n",
       "        vertical-align: middle;\n",
       "    }\n",
       "\n",
       "    .dataframe tbody tr th {\n",
       "        vertical-align: top;\n",
       "    }\n",
       "\n",
       "    .dataframe thead th {\n",
       "        text-align: right;\n",
       "    }\n",
       "</style>\n",
       "<table border=\"1\" class=\"dataframe\">\n",
       "  <thead>\n",
       "    <tr style=\"text-align: right;\">\n",
       "      <th></th>\n",
       "      <th>UUID</th>\n",
       "      <th>Code</th>\n",
       "      <th>zip</th>\n",
       "      <th>Title</th>\n",
       "      <th>Abbreviation</th>\n",
       "      <th>state</th>\n",
       "      <th>mean_income</th>\n",
       "      <th>median_income</th>\n",
       "      <th>population</th>\n",
       "    </tr>\n",
       "  </thead>\n",
       "  <tbody>\n",
       "    <tr>\n",
       "      <td>5</td>\n",
       "      <td>d695bb51-c83b-4ca3-9139-7a541393fd8e</td>\n",
       "      <td>62</td>\n",
       "      <td>75390</td>\n",
       "      <td>Health Care and Social Assistance</td>\n",
       "      <td>Health Care</td>\n",
       "      <td>NaN</td>\n",
       "      <td>NaN</td>\n",
       "      <td>NaN</td>\n",
       "      <td>NaN</td>\n",
       "    </tr>\n",
       "    <tr>\n",
       "      <td>22</td>\n",
       "      <td>aa2e00cb-ed5b-4994-869f-55d8010de094</td>\n",
       "      <td>62</td>\n",
       "      <td>R3T 2H4</td>\n",
       "      <td>Health Care and Social Assistance</td>\n",
       "      <td>Health Care</td>\n",
       "      <td>NaN</td>\n",
       "      <td>NaN</td>\n",
       "      <td>NaN</td>\n",
       "      <td>NaN</td>\n",
       "    </tr>\n",
       "    <tr>\n",
       "      <td>45</td>\n",
       "      <td>79f026de-1503-45a0-bf62-8fa948a35fd9</td>\n",
       "      <td>99</td>\n",
       "      <td>05402</td>\n",
       "      <td>Unknown</td>\n",
       "      <td>Unknown</td>\n",
       "      <td>NaN</td>\n",
       "      <td>NaN</td>\n",
       "      <td>NaN</td>\n",
       "      <td>NaN</td>\n",
       "    </tr>\n",
       "    <tr>\n",
       "      <td>66</td>\n",
       "      <td>a4e93ced-80ba-4163-8913-66c6660d5cc4</td>\n",
       "      <td>54</td>\n",
       "      <td>95741</td>\n",
       "      <td>Professional, Scientific, and Technical Services</td>\n",
       "      <td>Tech Services</td>\n",
       "      <td>NaN</td>\n",
       "      <td>NaN</td>\n",
       "      <td>NaN</td>\n",
       "      <td>NaN</td>\n",
       "    </tr>\n",
       "    <tr>\n",
       "      <td>100</td>\n",
       "      <td>56f332e2-4e3b-4e94-9dfd-2d8e0d073431</td>\n",
       "      <td>54</td>\n",
       "      <td>V1J 3X6</td>\n",
       "      <td>Professional, Scientific, and Technical Services</td>\n",
       "      <td>Tech Services</td>\n",
       "      <td>NaN</td>\n",
       "      <td>NaN</td>\n",
       "      <td>NaN</td>\n",
       "      <td>NaN</td>\n",
       "    </tr>\n",
       "    <tr>\n",
       "      <td>...</td>\n",
       "      <td>...</td>\n",
       "      <td>...</td>\n",
       "      <td>...</td>\n",
       "      <td>...</td>\n",
       "      <td>...</td>\n",
       "      <td>...</td>\n",
       "      <td>...</td>\n",
       "      <td>...</td>\n",
       "      <td>...</td>\n",
       "    </tr>\n",
       "    <tr>\n",
       "      <td>935417</td>\n",
       "      <td>77415448-6ad6-4420-a973-455c31c766c2</td>\n",
       "      <td>32</td>\n",
       "      <td>15275</td>\n",
       "      <td>Manufacturing</td>\n",
       "      <td>Manufacturing</td>\n",
       "      <td>NaN</td>\n",
       "      <td>NaN</td>\n",
       "      <td>NaN</td>\n",
       "      <td>NaN</td>\n",
       "    </tr>\n",
       "    <tr>\n",
       "      <td>935474</td>\n",
       "      <td>d01b19de-7007-4bf0-9390-7dffcf03ffb5</td>\n",
       "      <td>61</td>\n",
       "      <td>00714</td>\n",
       "      <td>Educational Services</td>\n",
       "      <td>Education</td>\n",
       "      <td>NaN</td>\n",
       "      <td>NaN</td>\n",
       "      <td>NaN</td>\n",
       "      <td>NaN</td>\n",
       "    </tr>\n",
       "    <tr>\n",
       "      <td>935512</td>\n",
       "      <td>fff1199a-50b8-4f4a-9ef5-5d9cffdf6a60</td>\n",
       "      <td>62</td>\n",
       "      <td>00921</td>\n",
       "      <td>Health Care and Social Assistance</td>\n",
       "      <td>Health Care</td>\n",
       "      <td>NaN</td>\n",
       "      <td>NaN</td>\n",
       "      <td>NaN</td>\n",
       "      <td>NaN</td>\n",
       "    </tr>\n",
       "    <tr>\n",
       "      <td>935583</td>\n",
       "      <td>c8e2383e-2058-43cd-920e-7c6c281f9d36</td>\n",
       "      <td>56</td>\n",
       "      <td>10119</td>\n",
       "      <td>Administrative and Support and Waste Managemen...</td>\n",
       "      <td>Administrative</td>\n",
       "      <td>NaN</td>\n",
       "      <td>NaN</td>\n",
       "      <td>NaN</td>\n",
       "      <td>NaN</td>\n",
       "    </tr>\n",
       "    <tr>\n",
       "      <td>935624</td>\n",
       "      <td>fdd7c9a0-f46c-41cd-8fe9-d6261ae309b1</td>\n",
       "      <td>62</td>\n",
       "      <td>94143</td>\n",
       "      <td>Health Care and Social Assistance</td>\n",
       "      <td>Health Care</td>\n",
       "      <td>NaN</td>\n",
       "      <td>NaN</td>\n",
       "      <td>NaN</td>\n",
       "      <td>NaN</td>\n",
       "    </tr>\n",
       "  </tbody>\n",
       "</table>\n",
       "<p>12857 rows × 9 columns</p>\n",
       "</div>"
      ],
      "text/plain": [
       "                                        UUID  Code      zip  \\\n",
       "5       d695bb51-c83b-4ca3-9139-7a541393fd8e    62    75390   \n",
       "22      aa2e00cb-ed5b-4994-869f-55d8010de094    62  R3T 2H4   \n",
       "45      79f026de-1503-45a0-bf62-8fa948a35fd9    99    05402   \n",
       "66      a4e93ced-80ba-4163-8913-66c6660d5cc4    54    95741   \n",
       "100     56f332e2-4e3b-4e94-9dfd-2d8e0d073431    54  V1J 3X6   \n",
       "...                                      ...   ...      ...   \n",
       "935417  77415448-6ad6-4420-a973-455c31c766c2    32    15275   \n",
       "935474  d01b19de-7007-4bf0-9390-7dffcf03ffb5    61    00714   \n",
       "935512  fff1199a-50b8-4f4a-9ef5-5d9cffdf6a60    62    00921   \n",
       "935583  c8e2383e-2058-43cd-920e-7c6c281f9d36    56    10119   \n",
       "935624  fdd7c9a0-f46c-41cd-8fe9-d6261ae309b1    62    94143   \n",
       "\n",
       "                                                    Title    Abbreviation  \\\n",
       "5                       Health Care and Social Assistance     Health Care   \n",
       "22                      Health Care and Social Assistance     Health Care   \n",
       "45                                                Unknown         Unknown   \n",
       "66       Professional, Scientific, and Technical Services   Tech Services   \n",
       "100      Professional, Scientific, and Technical Services   Tech Services   \n",
       "...                                                   ...             ...   \n",
       "935417                                      Manufacturing   Manufacturing   \n",
       "935474                               Educational Services       Education   \n",
       "935512                  Health Care and Social Assistance     Health Care   \n",
       "935583  Administrative and Support and Waste Managemen...  Administrative   \n",
       "935624                  Health Care and Social Assistance     Health Care   \n",
       "\n",
       "       state  mean_income  median_income  population  \n",
       "5        NaN          NaN            NaN         NaN  \n",
       "22       NaN          NaN            NaN         NaN  \n",
       "45       NaN          NaN            NaN         NaN  \n",
       "66       NaN          NaN            NaN         NaN  \n",
       "100      NaN          NaN            NaN         NaN  \n",
       "...      ...          ...            ...         ...  \n",
       "935417   NaN          NaN            NaN         NaN  \n",
       "935474   NaN          NaN            NaN         NaN  \n",
       "935512   NaN          NaN            NaN         NaN  \n",
       "935583   NaN          NaN            NaN         NaN  \n",
       "935624   NaN          NaN            NaN         NaN  \n",
       "\n",
       "[12857 rows x 9 columns]"
      ]
     },
     "execution_count": 29,
     "metadata": {},
     "output_type": "execute_result"
    }
   ],
   "source": [
    "bCodeZip[bCodeZip.isna().any(axis=1)]"
   ]
  },
  {
   "cell_type": "markdown",
   "metadata": {},
   "source": [
    "# 1.\n",
    "What kind of data cleaning and error checking did you do in processing the files, what challenges did you find, and what did you do about those challenges? What assumptions did you make about the data attributes?  Please address these issues in some detail.  "
   ]
  },
  {
   "cell_type": "markdown",
   "metadata": {},
   "source": [
    "Answer:\n",
    "\n",
    "In order to merge the business data set with the NAICS code data set, the code columns must be in the same format and of the same datatype. For the business data set, the code came as a large number with multiple null values. Pandas cannot assign a column the datatype of integer if there are null values so I had to first decide what to do with those values. I chose to replace each null code with 99 (unknown). I then made the codes in the business data set integer datatypes. \n",
    "\n",
    "Since I wanted to join the two data sets using the code column, I had to simplify the NAICS code to the first two digits in the business data set. \n",
    "\n",
    "The next step was to check if any businesses in the businesses data set had any invalid NAICS codes. To do this, I checked if there were any null values in the title. Since I did a left outer join, if there were any businesses with NAICS codes that didn't match any entries in the NAICS dataset, they would be included with nulls for the title. There were no nulls in the title column after the join so I know that all the NAICS codes were valid.\n",
    "\n",
    "In order to merge that data frame with the zip dataset, I had to convert the zip into a string, since it was originally interpretted as an int. This prevented Pandas from removing the leading zero from the zip code. I then did a left outer join to include all items in bCodes (businesses merged with NAICS) and only matched items from the zip code dataset. \n",
    "\n",
    "I then checked if there were any invalid zip codes by seeing if any entries had a null state value. Since I did a left outer join, a null state value would mean that there was no match for that zip code in the zip demographic dataset. I found 12,857 entries with invalid zip codes. After inspection, it looked like some of them had letters in them and the others I could not find a match when searching the zip_demographics.txt file. I decided that these were still most likely valid businesses, so for business questions that did not involve the business' location, I would leave them in the dataset. However, if a business question wants to factor in the location of the business, I would remove them from the dataset.   "
   ]
  },
  {
   "cell_type": "markdown",
   "metadata": {},
   "source": [
    "# 2. \n",
    "Considering only the top-level NAICS categories, produce a graphic of your choiceshowing the number of businesses per category and also showing the percentage of businesses in each category.\n",
    "\n",
    "Answer:\n",
    "\n",
    "I chose to use a horizontal bar graph to display the number of businesses in each category. This made it easier to read the labels than a vertical bar graph. I also chose to group them by Abbreviation instead of NAICS code so that the redundant categories would be aggregated together."
   ]
  },
  {
   "cell_type": "code",
   "execution_count": 30,
   "metadata": {},
   "outputs": [
    {
     "data": {
      "text/plain": [
       "Text(0, 0.5, 'Business Type')"
      ]
     },
     "execution_count": 30,
     "metadata": {},
     "output_type": "execute_result"
    },
    {
     "data": {
      "image/png": "[encoded data removed]",
      "text/plain": [
       "<Figure size 432x288 with 1 Axes>"
      ]
     },
     "metadata": {
      "needs_background": "light"
     },
     "output_type": "display_data"
    }
   ],
   "source": [
    "from matplotlib import pyplot as plt\n",
    "%matplotlib inline\n",
    "ax = bCodeZip.Abbreviation.value_counts().plot(kind='barh')\n",
    "ax.set_xlabel('Number of Businesses')\n",
    "ax.set_ylabel('Business Type')"
   ]
  },
  {
   "cell_type": "markdown",
   "metadata": {},
   "source": [
    "I included a horizontal bar graph to show the percentages of businesses in each category for the same reasons. This way, the business type is more legible and it shows the same general distribution as the other graph."
   ]
  },
  {
   "cell_type": "code",
   "execution_count": 31,
   "metadata": {},
   "outputs": [
    {
     "data": {
      "text/plain": [
       "Text(0, 0.5, 'Business Type')"
      ]
     },
     "execution_count": 31,
     "metadata": {},
     "output_type": "execute_result"
    },
    {
     "data": {
      "image/png": "[encoded data removed]",
      "text/plain": [
       "<Figure size 432x288 with 1 Axes>"
      ]
     },
     "metadata": {
      "needs_background": "light"
     },
     "output_type": "display_data"
    }
   ],
   "source": [
    "# busTypePerc = bCodeZip.Abbreviation.value_counts(normalize=True).apply(lambda n: \"{:.2}\".format(n))\n",
    "busTypePerc = bCodeZip.Abbreviation.value_counts(normalize=True) * 100\n",
    "ax = busTypePerc.plot(kind='barh')\n",
    "ax.set_xlabel('Percentage of Businesses')\n",
    "ax.set_ylabel('Business Type')"
   ]
  },
  {
   "cell_type": "markdown",
   "metadata": {},
   "source": [
    "I think a more effective and intuitive way to display the percentages is with a pie chart. "
   ]
  },
  {
   "cell_type": "code",
   "execution_count": 32,
   "metadata": {
    "scrolled": true
   },
   "outputs": [
    {
     "data": {
      "text/plain": [
       "([<matplotlib.patches.Wedge at 0xb04cc30>,\n",
       "  <matplotlib.patches.Wedge at 0xb0590d0>,\n",
       "  <matplotlib.patches.Wedge at 0xb059610>,\n",
       "  <matplotlib.patches.Wedge at 0xb059b90>,\n",
       "  <matplotlib.patches.Wedge at 0xb067210>,\n",
       "  <matplotlib.patches.Wedge at 0xb067770>,\n",
       "  <matplotlib.patches.Wedge at 0xb067bb0>,\n",
       "  <matplotlib.patches.Wedge at 0xb073110>,\n",
       "  <matplotlib.patches.Wedge at 0xb0670f0>,\n",
       "  <matplotlib.patches.Wedge at 0xb067650>,\n",
       "  <matplotlib.patches.Wedge at 0xaff7430>,\n",
       "  <matplotlib.patches.Wedge at 0xb082590>,\n",
       "  <matplotlib.patches.Wedge at 0xb082ad0>,\n",
       "  <matplotlib.patches.Wedge at 0xb090030>,\n",
       "  <matplotlib.patches.Wedge at 0xb090570>,\n",
       "  <matplotlib.patches.Wedge at 0xb090ab0>,\n",
       "  <matplotlib.patches.Wedge at 0xb090ff0>,\n",
       "  <matplotlib.patches.Wedge at 0xb09f550>,\n",
       "  <matplotlib.patches.Wedge at 0xb09fa90>,\n",
       "  <matplotlib.patches.Wedge at 0xb09ffd0>,\n",
       "  <matplotlib.patches.Wedge at 0xb0ab530>],\n",
       " [Text(3.9303328686040273, 1.9779998842191175, 'Health Care'),\n",
       "  Text(0.7904996588118894, 4.328407361769256, 'Retail'),\n",
       "  Text(-2.7677704146251, 3.420445428877064, 'Unknown'),\n",
       "  Text(-4.366687040625462, 0.540411222342441, 'Tech Services'),\n",
       "  Text(-3.837697900751423, -2.1522255510443418, 'Other'),\n",
       "  Text(-2.534479619093894, -3.596722544261327, 'Finance/Insurance'),\n",
       "  Text(-1.196138564428274, -4.23429480960968, 'Construction'),\n",
       "  Text(0.1461935197155832, -4.3975706310181275, 'Food/Lodging'),\n",
       "  Text(1.3210265416125535, -4.197009515876177, 'Wholesale'),\n",
       "  Text(2.2684532455650164, -3.7701617833569885, 'Real Estate'),\n",
       "  Text(2.9984847654457347, -3.2201070030963006, 'Manufacturing'),\n",
       "  Text(3.523321278153254, -2.6355658160843802, 'Administrative'),\n",
       "  Text(3.879789628411567, -2.075387298619233, 'Public Admin'),\n",
       "  Text(4.1045821320767715, -1.5850569456761199, 'Transportation'),\n",
       "  Text(4.247816841829784, -1.147193130326034, 'Education'),\n",
       "  Text(4.3374010397148615, -0.7395621817538028, 'Information'),\n",
       "  Text(4.383197069802416, -0.3841659111315214, 'Arts'),\n",
       "  Text(4.397291199481498, -0.15437003259238816, 'Agriculture'),\n",
       "  Text(4.399402320271423, -0.07252051013624936, 'Utilities'),\n",
       "  Text(4.399865360181418, -0.03442110218519933, 'Oil&Gas'),\n",
       "  Text(4.399992001790853, -0.00838952778914961, 'Management')],\n",
       " [Text(2.143817928329469, 1.0789090277558822, '14.8%'),\n",
       "  Text(0.4311816320792124, 2.3609494700559575, '14.6%'),\n",
       "  Text(-1.5096929534318726, 1.8656975066602166, '12.8%'),\n",
       "  Text(-2.3818292948866153, 0.2947697576413314, '11.6%'),\n",
       "  Text(-2.0932897640462307, -1.17394120966055, '8.6%'),\n",
       "  Text(-1.3824434285966694, -1.961848660506178, '5.6%'),\n",
       "  Text(-0.6524392169608767, -2.3096153506961885, '5.2%'),\n",
       "  Text(0.07974191984486356, -2.398674889646251, '4.6%'),\n",
       "  Text(0.7205599317886654, -2.2892779177506415, '4.0%'),\n",
       "  Text(1.2373381339445544, -2.056451881831084, '3.5%'),\n",
       "  Text(1.6355371447885825, -1.756422001688891, '3.1%'),\n",
       "  Text(1.921811606265411, -1.4375813542278435, '2.6%'),\n",
       "  Text(2.116248888224491, -1.1320294356104905, '2.2%'),\n",
       "  Text(2.238862981132784, -0.864576515823338, '1.7%'),\n",
       "  Text(2.3169910046344273, -0.6257417074505639, '1.6%'),\n",
       "  Text(2.3658551125717424, -0.40339755368389246, '1.4%'),\n",
       "  Text(2.3908347653467725, -0.20954504243537528, '1.2%'),\n",
       "  Text(2.398522472444453, -0.08420183595948444, '0.4%'),\n",
       "  Text(2.3996739928753215, -0.03955664189249964, '0.1%'),\n",
       "  Text(2.399926560098955, -0.018775146646472358, '0.1%'),\n",
       "  Text(2.399995637340465, -0.004576106066808877, '0.1%')])"
      ]
     },
     "execution_count": 32,
     "metadata": {},
     "output_type": "execute_result"
    },
    {
     "data": {
      "image/png": "[encoded data removed]",
      "text/plain": [
       "<Figure size 432x288 with 1 Axes>"
      ]
     },
     "metadata": {},
     "output_type": "display_data"
    }
   ],
   "source": [
    "plt.pie(busTypePerc, labels=busTypePerc.index, shadow=True, autopct='%1.1f%%', radius = 4)"
   ]
  },
  {
   "cell_type": "markdown",
   "metadata": {},
   "source": [
    "# 3. \n",
    "Consider now aggregating data up to the state level.   Which states have the most and least number of businesses per capita? Show this in a graphic that communicates the information for all states, but also indicates to the viewer the states with the most and least number of businesses per capita."
   ]
  },
  {
   "cell_type": "markdown",
   "metadata": {},
   "source": [
    "Answer:\n",
    "\n",
    "Since this question relates to the location of the business, I will remove the entries that have an invalid zip code."
   ]
  },
  {
   "cell_type": "code",
   "execution_count": 33,
   "metadata": {},
   "outputs": [],
   "source": [
    "validZips = bCodeZip.dropna(subset = ['state'])"
   ]
  },
  {
   "cell_type": "markdown",
   "metadata": {},
   "source": [
    "Now we have a dataset that only contains those businesses with a valid zip code."
   ]
  },
  {
   "cell_type": "code",
   "execution_count": 34,
   "metadata": {},
   "outputs": [
    {
     "data": {
      "text/plain": [
       "0"
      ]
     },
     "execution_count": 34,
     "metadata": {},
     "output_type": "execute_result"
    }
   ],
   "source": [
    "sum(pd.isnull(validZips.state))"
   ]
  },
  {
   "cell_type": "markdown",
   "metadata": {},
   "source": [
    "Get number of businesses in each state (since value_counts() returns the number of unique values, we do not need to worry about businesses listed multiple times with different NAICS codes)"
   ]
  },
  {
   "cell_type": "code",
   "execution_count": 35,
   "metadata": {
    "scrolled": true
   },
   "outputs": [
    {
     "data": {
      "text/plain": [
       "AK      2209\n",
       "AL     13437\n",
       "AR      8508\n",
       "AZ     17208\n",
       "CA    106031\n",
       "CO     17664\n",
       "CT     12975\n",
       "DC      4500\n",
       "DE      2894\n",
       "FL     61707\n",
       "GA     28339\n",
       "HI      3371\n",
       "IA      9543\n",
       "ID      4530\n",
       "IL     37636\n",
       "IN     16937\n",
       "KS      9378\n",
       "KY     11093\n",
       "LA     13938\n",
       "MA     23314\n",
       "MD     17359\n",
       "ME      4259\n",
       "MI     29560\n",
       "MN     18272\n",
       "MO     18020\n",
       "MS      7721\n",
       "MT      3881\n",
       "NC     25837\n",
       "ND      2600\n",
       "NE      6232\n",
       "NH      4353\n",
       "NJ     28106\n",
       "NM      5587\n",
       "NV      7557\n",
       "NY     62401\n",
       "OH     33972\n",
       "OK     10452\n",
       "OR     12300\n",
       "PA     37453\n",
       "RI      3456\n",
       "SC     12960\n",
       "SD      2747\n",
       "TN     18682\n",
       "TX     67518\n",
       "UT      7562\n",
       "VA     22417\n",
       "VT      2149\n",
       "WA     20237\n",
       "WI     17788\n",
       "WV      4140\n",
       "WY      1979\n",
       "Name: state, dtype: int64"
      ]
     },
     "execution_count": 35,
     "metadata": {},
     "output_type": "execute_result"
    }
   ],
   "source": [
    "numBusinesses = validZips.state.value_counts()\n",
    "numBusinesses.sort_index(inplace=True)\n",
    "numBusinesses"
   ]
  },
  {
   "cell_type": "markdown",
   "metadata": {},
   "source": [
    "Get population in each state"
   ]
  },
  {
   "cell_type": "code",
   "execution_count": 36,
   "metadata": {
    "scrolled": true
   },
   "outputs": [
    {
     "data": {
      "text/plain": [
       "state\n",
       "AK      703159\n",
       "AL     4761097\n",
       "AR     2912218\n",
       "AZ     6356003\n",
       "CA    36925462\n",
       "CO     4979179\n",
       "CT     3548308\n",
       "DC      579471\n",
       "DE      892487\n",
       "FL    18593035\n",
       "GA     9613781\n",
       "HI     1339090\n",
       "IA     3027282\n",
       "ID     1566982\n",
       "IL    12800032\n",
       "IN     6452186\n",
       "KS     2844009\n",
       "KY     4312663\n",
       "LA     4464564\n",
       "MA     6289735\n",
       "MD     5220219\n",
       "ME     1255979\n",
       "MI     9735496\n",
       "MN     4908331\n",
       "MO     5976862\n",
       "MS     2824350\n",
       "MT      899811\n",
       "NC     7965332\n",
       "ND      640141\n",
       "NE     1706465\n",
       "NH     1227937\n",
       "NJ     8338350\n",
       "NM     1805713\n",
       "NV     1983474\n",
       "NY    18596537\n",
       "OH    11309255\n",
       "OK     3436631\n",
       "OR     3378525\n",
       "PA    12210200\n",
       "RI     1038604\n",
       "SC     4556028\n",
       "SD      813654\n",
       "TN     6292739\n",
       "TX    24939233\n",
       "UT     2734420\n",
       "VA     7888581\n",
       "VT      623895\n",
       "WA     6681919\n",
       "WI     5627890\n",
       "WV     1852774\n",
       "WY      557031\n",
       "Name: population, dtype: int64"
      ]
     },
     "execution_count": 36,
     "metadata": {},
     "output_type": "execute_result"
    }
   ],
   "source": [
    "statePops = zips.groupby('state').population.sum()\n",
    "statePops"
   ]
  },
  {
   "cell_type": "markdown",
   "metadata": {},
   "source": [
    "Divide the number of businesses by the population in each state to get businesses per capita"
   ]
  },
  {
   "cell_type": "code",
   "execution_count": 37,
   "metadata": {},
   "outputs": [
    {
     "data": {
      "text/plain": [
       "AK    3.141537\n",
       "AL    2.822249\n",
       "AR    2.921485\n",
       "AZ    2.707362\n",
       "CA    2.871487\n",
       "CO    3.547573\n",
       "CT    3.656672\n",
       "DC    7.765704\n",
       "DE    3.242624\n",
       "FL    3.318823\n",
       "GA    2.947748\n",
       "HI    2.517381\n",
       "IA    3.152333\n",
       "ID    2.890907\n",
       "IL    2.940305\n",
       "IN    2.625002\n",
       "KS    3.297458\n",
       "KY    2.572193\n",
       "LA    3.121917\n",
       "MA    3.706674\n",
       "MD    3.325339\n",
       "ME    3.390980\n",
       "MI    3.036312\n",
       "MN    3.722650\n",
       "MO    3.014960\n",
       "MS    2.733726\n",
       "MT    4.313128\n",
       "NC    3.243681\n",
       "ND    4.061605\n",
       "NE    3.651994\n",
       "NH    3.544970\n",
       "NJ    3.370691\n",
       "NM    3.094069\n",
       "NV    3.809982\n",
       "NY    3.355517\n",
       "OH    3.003911\n",
       "OK    3.041351\n",
       "OR    3.640642\n",
       "PA    3.067354\n",
       "RI    3.327544\n",
       "SC    2.844583\n",
       "SD    3.376128\n",
       "TN    2.968819\n",
       "TX    2.707301\n",
       "UT    2.765486\n",
       "VA    2.841702\n",
       "VT    3.444490\n",
       "WA    3.028621\n",
       "WI    3.160687\n",
       "WV    2.234487\n",
       "WY    3.552765\n",
       "dtype: float64"
      ]
     },
     "execution_count": 37,
     "metadata": {},
     "output_type": "execute_result"
    }
   ],
   "source": [
    "perCap = numBusinesses.divide(statePops) * 1000\n",
    "perCap"
   ]
  },
  {
   "cell_type": "markdown",
   "metadata": {},
   "source": [
    "The following graphic shows the businesses per 1,000 people in each one of the 50 states. The green bar represents the highest businesses per capita and the red bar represents the lowest businesses per capita."
   ]
  },
  {
   "cell_type": "code",
   "execution_count": 38,
   "metadata": {},
   "outputs": [
    {
     "data": {
      "image/png": "[encoded data removed]",
      "text/plain": [
       "<Figure size 1080x360 with 1 Axes>"
      ]
     },
     "metadata": {
      "needs_background": "light"
     },
     "output_type": "display_data"
    }
   ],
   "source": [
    "import matplotlib.patches as mpatches\n",
    "\n",
    "ax = perCap.plot(kind='bar', figsize=(15, 5))\n",
    "\n",
    "# add labels\n",
    "ax.set_xlabel('State')\n",
    "ax.set_ylabel('Businesses Per 1,000 People')\n",
    "\n",
    "# make all bars grey\n",
    "for bar in ax.patches:\n",
    "    bar.set_facecolor('#888888')\n",
    "    \n",
    "# add legend\n",
    "high = mpatches.Patch(color='#18e780', label='Highest')\n",
    "low = mpatches.Patch(color='#aa3333', label='Lowest')\n",
    "ax.legend(handles=[high, low])\n",
    "# ax.legend([\"HIGHEST\", \"LOWEST\"])\n",
    "\n",
    "# find highest businesses per capita \n",
    "highest = perCap.idxmax()\n",
    "pos = perCap.index.get_loc(highest)\n",
    "#highlight highest\n",
    "ax.patches[pos].set_facecolor('#18e780')\n",
    "\n",
    "# find lowest businesses per capita \n",
    "lowest = perCap.idxmin()\n",
    "pos = perCap.index.get_loc(lowest)\n",
    "#highlight highest\n",
    "ax.patches[pos].set_facecolor('#aa3333')"
   ]
  },
  {
   "cell_type": "markdown",
   "metadata": {},
   "source": [
    "# 4. \n",
    "Staying at the state level, look more carefully at the Health Care category.  What state has the most and what state has the least concentration of health-care businesses, where concentration is defined as the percentage of total businesses in the state that are in the health-care category? Show a table with the information about all states that highlights the states with the most and least concentration."
   ]
  },
  {
   "cell_type": "code",
   "execution_count": 39,
   "metadata": {},
   "outputs": [
    {
     "data": {
      "text/plain": [
       "state  Abbreviation \n",
       "AK     Health Care      341\n",
       "       Retail           263\n",
       "       Tech Services    255\n",
       "       Unknown          239\n",
       "       Other            188\n",
       "                       ... \n",
       "WY     Education         27\n",
       "       Agriculture       25\n",
       "       Arts              24\n",
       "       Oil&Gas           15\n",
       "       Utilities          5\n",
       "Name: Abbreviation, Length: 1064, dtype: int64"
      ]
     },
     "execution_count": 39,
     "metadata": {},
     "output_type": "execute_result"
    }
   ],
   "source": [
    "typeByState = validZips.groupby('state').Abbreviation.value_counts()\n",
    "typeByState"
   ]
  },
  {
   "cell_type": "code",
   "execution_count": 40,
   "metadata": {},
   "outputs": [
    {
     "data": {
      "text/plain": [
       "state\n",
       "AK      341\n",
       "AL     1628\n",
       "AR     1120\n",
       "AZ     2567\n",
       "CA    15961\n",
       "CO     2591\n",
       "CT     2114\n",
       "DC      586\n",
       "DE      401\n",
       "FL     8560\n",
       "GA     3606\n",
       "HI      545\n",
       "IA     1191\n",
       "ID      626\n",
       "IL     5496\n",
       "IN     2484\n",
       "KS     1211\n",
       "KY     1724\n",
       "LA     1895\n",
       "MA     3891\n",
       "MD     2822\n",
       "ME      672\n",
       "MI     4669\n",
       "MN     2321\n",
       "MO     2475\n",
       "MS     1041\n",
       "MT      488\n",
       "NC     3671\n",
       "ND      328\n",
       "NE      844\n",
       "NH      595\n",
       "NJ     4399\n",
       "NM      844\n",
       "NV      940\n",
       "NY    10678\n",
       "OH     5095\n",
       "OK     1489\n",
       "OR     1880\n",
       "PA     6233\n",
       "RI      610\n",
       "SC     1671\n",
       "SD      360\n",
       "TN     2535\n",
       "TX     9149\n",
       "UT      993\n",
       "VA     3064\n",
       "VT      342\n",
       "WA     3006\n",
       "WI     2478\n",
       "WV      707\n",
       "WY      259\n",
       "Name: state, dtype: int64"
      ]
     },
     "execution_count": 40,
     "metadata": {},
     "output_type": "execute_result"
    }
   ],
   "source": [
    "stateByType = validZips.groupby('Abbreviation').state.value_counts()\n",
    "healthCare = stateByType['Health Care']\n",
    "healthCare.sort_index(inplace=True)\n",
    "healthCare"
   ]
  },
  {
   "cell_type": "code",
   "execution_count": 41,
   "metadata": {},
   "outputs": [
    {
     "data": {
      "text/plain": [
       "AK      2209\n",
       "AL     13437\n",
       "AR      8508\n",
       "AZ     17208\n",
       "CA    106031\n",
       "CO     17664\n",
       "CT     12975\n",
       "DC      4500\n",
       "DE      2894\n",
       "FL     61707\n",
       "GA     28339\n",
       "HI      3371\n",
       "IA      9543\n",
       "ID      4530\n",
       "IL     37636\n",
       "IN     16937\n",
       "KS      9378\n",
       "KY     11093\n",
       "LA     13938\n",
       "MA     23314\n",
       "MD     17359\n",
       "ME      4259\n",
       "MI     29560\n",
       "MN     18272\n",
       "MO     18020\n",
       "MS      7721\n",
       "MT      3881\n",
       "NC     25837\n",
       "ND      2600\n",
       "NE      6232\n",
       "NH      4353\n",
       "NJ     28106\n",
       "NM      5587\n",
       "NV      7557\n",
       "NY     62401\n",
       "OH     33972\n",
       "OK     10452\n",
       "OR     12300\n",
       "PA     37453\n",
       "RI      3456\n",
       "SC     12960\n",
       "SD      2747\n",
       "TN     18682\n",
       "TX     67518\n",
       "UT      7562\n",
       "VA     22417\n",
       "VT      2149\n",
       "WA     20237\n",
       "WI     17788\n",
       "WV      4140\n",
       "WY      1979\n",
       "Name: state, dtype: int64"
      ]
     },
     "execution_count": 41,
     "metadata": {},
     "output_type": "execute_result"
    }
   ],
   "source": [
    "numBusinesses = validZips.state.value_counts()\n",
    "numBusinesses.sort_index(inplace=True)\n",
    "numBusinesses"
   ]
  },
  {
   "cell_type": "markdown",
   "metadata": {},
   "source": [
    "The following is a table showing the percentage of each state's businesses that are in the healthcare category. The table is sorted high to low, so the state with the highest percentage of health care businesses is at the top (Rhode Island) and the lowest is at the bottom (Alaska). The highest value is highlighted in green but unfortunately, I could not find a way to apply multiple styles and highlight the lowest value as well."
   ]
  },
  {
   "cell_type": "code",
   "execution_count": 42,
   "metadata": {},
   "outputs": [
    {
     "data": {
      "text/html": [
       "<style  type=\"text/css\" >\n",
       "    #T_1b1f9a24_0009_11ea_a035_7c67a2508876row0_col0 {\n",
       "            background-color:  #18e780;\n",
       "        }</style><table id=\"T_1b1f9a24_0009_11ea_a035_7c67a2508876\" ><thead>    <tr>        <th class=\"blank level0\" ></th>        <th class=\"col_heading level0 col0\" >state</th>    </tr>    <tr>        <th class=\"index_name level0\" >state</th>        <th class=\"blank\" ></th>    </tr></thead><tbody>\n",
       "                <tr>\n",
       "                        <th id=\"T_1b1f9a24_0009_11ea_a035_7c67a2508876level0_row0\" class=\"row_heading level0 row0\" >RI</th>\n",
       "                        <td id=\"T_1b1f9a24_0009_11ea_a035_7c67a2508876row0_col0\" class=\"data row0 col0\" >17.6505</td>\n",
       "            </tr>\n",
       "            <tr>\n",
       "                        <th id=\"T_1b1f9a24_0009_11ea_a035_7c67a2508876level0_row1\" class=\"row_heading level0 row1\" >NY</th>\n",
       "                        <td id=\"T_1b1f9a24_0009_11ea_a035_7c67a2508876row1_col0\" class=\"data row1 col0\" >17.1119</td>\n",
       "            </tr>\n",
       "            <tr>\n",
       "                        <th id=\"T_1b1f9a24_0009_11ea_a035_7c67a2508876level0_row2\" class=\"row_heading level0 row2\" >WV</th>\n",
       "                        <td id=\"T_1b1f9a24_0009_11ea_a035_7c67a2508876row2_col0\" class=\"data row2 col0\" >17.0773</td>\n",
       "            </tr>\n",
       "            <tr>\n",
       "                        <th id=\"T_1b1f9a24_0009_11ea_a035_7c67a2508876level0_row3\" class=\"row_heading level0 row3\" >MA</th>\n",
       "                        <td id=\"T_1b1f9a24_0009_11ea_a035_7c67a2508876row3_col0\" class=\"data row3 col0\" >16.6895</td>\n",
       "            </tr>\n",
       "            <tr>\n",
       "                        <th id=\"T_1b1f9a24_0009_11ea_a035_7c67a2508876level0_row4\" class=\"row_heading level0 row4\" >PA</th>\n",
       "                        <td id=\"T_1b1f9a24_0009_11ea_a035_7c67a2508876row4_col0\" class=\"data row4 col0\" >16.6422</td>\n",
       "            </tr>\n",
       "            <tr>\n",
       "                        <th id=\"T_1b1f9a24_0009_11ea_a035_7c67a2508876level0_row5\" class=\"row_heading level0 row5\" >CT</th>\n",
       "                        <td id=\"T_1b1f9a24_0009_11ea_a035_7c67a2508876row5_col0\" class=\"data row5 col0\" >16.2929</td>\n",
       "            </tr>\n",
       "            <tr>\n",
       "                        <th id=\"T_1b1f9a24_0009_11ea_a035_7c67a2508876level0_row6\" class=\"row_heading level0 row6\" >MD</th>\n",
       "                        <td id=\"T_1b1f9a24_0009_11ea_a035_7c67a2508876row6_col0\" class=\"data row6 col0\" >16.2567</td>\n",
       "            </tr>\n",
       "            <tr>\n",
       "                        <th id=\"T_1b1f9a24_0009_11ea_a035_7c67a2508876level0_row7\" class=\"row_heading level0 row7\" >HI</th>\n",
       "                        <td id=\"T_1b1f9a24_0009_11ea_a035_7c67a2508876row7_col0\" class=\"data row7 col0\" >16.1673</td>\n",
       "            </tr>\n",
       "            <tr>\n",
       "                        <th id=\"T_1b1f9a24_0009_11ea_a035_7c67a2508876level0_row8\" class=\"row_heading level0 row8\" >VT</th>\n",
       "                        <td id=\"T_1b1f9a24_0009_11ea_a035_7c67a2508876row8_col0\" class=\"data row8 col0\" >15.9144</td>\n",
       "            </tr>\n",
       "            <tr>\n",
       "                        <th id=\"T_1b1f9a24_0009_11ea_a035_7c67a2508876level0_row9\" class=\"row_heading level0 row9\" >MI</th>\n",
       "                        <td id=\"T_1b1f9a24_0009_11ea_a035_7c67a2508876row9_col0\" class=\"data row9 col0\" >15.795</td>\n",
       "            </tr>\n",
       "            <tr>\n",
       "                        <th id=\"T_1b1f9a24_0009_11ea_a035_7c67a2508876level0_row10\" class=\"row_heading level0 row10\" >ME</th>\n",
       "                        <td id=\"T_1b1f9a24_0009_11ea_a035_7c67a2508876row10_col0\" class=\"data row10 col0\" >15.7784</td>\n",
       "            </tr>\n",
       "            <tr>\n",
       "                        <th id=\"T_1b1f9a24_0009_11ea_a035_7c67a2508876level0_row11\" class=\"row_heading level0 row11\" >NJ</th>\n",
       "                        <td id=\"T_1b1f9a24_0009_11ea_a035_7c67a2508876row11_col0\" class=\"data row11 col0\" >15.6515</td>\n",
       "            </tr>\n",
       "            <tr>\n",
       "                        <th id=\"T_1b1f9a24_0009_11ea_a035_7c67a2508876level0_row12\" class=\"row_heading level0 row12\" >KY</th>\n",
       "                        <td id=\"T_1b1f9a24_0009_11ea_a035_7c67a2508876row12_col0\" class=\"data row12 col0\" >15.5413</td>\n",
       "            </tr>\n",
       "            <tr>\n",
       "                        <th id=\"T_1b1f9a24_0009_11ea_a035_7c67a2508876level0_row13\" class=\"row_heading level0 row13\" >AK</th>\n",
       "                        <td id=\"T_1b1f9a24_0009_11ea_a035_7c67a2508876row13_col0\" class=\"data row13 col0\" >15.4368</td>\n",
       "            </tr>\n",
       "            <tr>\n",
       "                        <th id=\"T_1b1f9a24_0009_11ea_a035_7c67a2508876level0_row14\" class=\"row_heading level0 row14\" >OR</th>\n",
       "                        <td id=\"T_1b1f9a24_0009_11ea_a035_7c67a2508876row14_col0\" class=\"data row14 col0\" >15.2846</td>\n",
       "            </tr>\n",
       "            <tr>\n",
       "                        <th id=\"T_1b1f9a24_0009_11ea_a035_7c67a2508876level0_row15\" class=\"row_heading level0 row15\" >NM</th>\n",
       "                        <td id=\"T_1b1f9a24_0009_11ea_a035_7c67a2508876row15_col0\" class=\"data row15 col0\" >15.1065</td>\n",
       "            </tr>\n",
       "            <tr>\n",
       "                        <th id=\"T_1b1f9a24_0009_11ea_a035_7c67a2508876level0_row16\" class=\"row_heading level0 row16\" >CA</th>\n",
       "                        <td id=\"T_1b1f9a24_0009_11ea_a035_7c67a2508876row16_col0\" class=\"data row16 col0\" >15.0531</td>\n",
       "            </tr>\n",
       "            <tr>\n",
       "                        <th id=\"T_1b1f9a24_0009_11ea_a035_7c67a2508876level0_row17\" class=\"row_heading level0 row17\" >OH</th>\n",
       "                        <td id=\"T_1b1f9a24_0009_11ea_a035_7c67a2508876row17_col0\" class=\"data row17 col0\" >14.9976</td>\n",
       "            </tr>\n",
       "            <tr>\n",
       "                        <th id=\"T_1b1f9a24_0009_11ea_a035_7c67a2508876level0_row18\" class=\"row_heading level0 row18\" >AZ</th>\n",
       "                        <td id=\"T_1b1f9a24_0009_11ea_a035_7c67a2508876row18_col0\" class=\"data row18 col0\" >14.9175</td>\n",
       "            </tr>\n",
       "            <tr>\n",
       "                        <th id=\"T_1b1f9a24_0009_11ea_a035_7c67a2508876level0_row19\" class=\"row_heading level0 row19\" >WA</th>\n",
       "                        <td id=\"T_1b1f9a24_0009_11ea_a035_7c67a2508876row19_col0\" class=\"data row19 col0\" >14.854</td>\n",
       "            </tr>\n",
       "            <tr>\n",
       "                        <th id=\"T_1b1f9a24_0009_11ea_a035_7c67a2508876level0_row20\" class=\"row_heading level0 row20\" >CO</th>\n",
       "                        <td id=\"T_1b1f9a24_0009_11ea_a035_7c67a2508876row20_col0\" class=\"data row20 col0\" >14.6683</td>\n",
       "            </tr>\n",
       "            <tr>\n",
       "                        <th id=\"T_1b1f9a24_0009_11ea_a035_7c67a2508876level0_row21\" class=\"row_heading level0 row21\" >IN</th>\n",
       "                        <td id=\"T_1b1f9a24_0009_11ea_a035_7c67a2508876row21_col0\" class=\"data row21 col0\" >14.6661</td>\n",
       "            </tr>\n",
       "            <tr>\n",
       "                        <th id=\"T_1b1f9a24_0009_11ea_a035_7c67a2508876level0_row22\" class=\"row_heading level0 row22\" >IL</th>\n",
       "                        <td id=\"T_1b1f9a24_0009_11ea_a035_7c67a2508876row22_col0\" class=\"data row22 col0\" >14.603</td>\n",
       "            </tr>\n",
       "            <tr>\n",
       "                        <th id=\"T_1b1f9a24_0009_11ea_a035_7c67a2508876level0_row23\" class=\"row_heading level0 row23\" >OK</th>\n",
       "                        <td id=\"T_1b1f9a24_0009_11ea_a035_7c67a2508876row23_col0\" class=\"data row23 col0\" >14.2461</td>\n",
       "            </tr>\n",
       "            <tr>\n",
       "                        <th id=\"T_1b1f9a24_0009_11ea_a035_7c67a2508876level0_row24\" class=\"row_heading level0 row24\" >NC</th>\n",
       "                        <td id=\"T_1b1f9a24_0009_11ea_a035_7c67a2508876row24_col0\" class=\"data row24 col0\" >14.2083</td>\n",
       "            </tr>\n",
       "            <tr>\n",
       "                        <th id=\"T_1b1f9a24_0009_11ea_a035_7c67a2508876level0_row25\" class=\"row_heading level0 row25\" >WI</th>\n",
       "                        <td id=\"T_1b1f9a24_0009_11ea_a035_7c67a2508876row25_col0\" class=\"data row25 col0\" >13.9307</td>\n",
       "            </tr>\n",
       "            <tr>\n",
       "                        <th id=\"T_1b1f9a24_0009_11ea_a035_7c67a2508876level0_row26\" class=\"row_heading level0 row26\" >FL</th>\n",
       "                        <td id=\"T_1b1f9a24_0009_11ea_a035_7c67a2508876row26_col0\" class=\"data row26 col0\" >13.872</td>\n",
       "            </tr>\n",
       "            <tr>\n",
       "                        <th id=\"T_1b1f9a24_0009_11ea_a035_7c67a2508876level0_row27\" class=\"row_heading level0 row27\" >DE</th>\n",
       "                        <td id=\"T_1b1f9a24_0009_11ea_a035_7c67a2508876row27_col0\" class=\"data row27 col0\" >13.8563</td>\n",
       "            </tr>\n",
       "            <tr>\n",
       "                        <th id=\"T_1b1f9a24_0009_11ea_a035_7c67a2508876level0_row28\" class=\"row_heading level0 row28\" >ID</th>\n",
       "                        <td id=\"T_1b1f9a24_0009_11ea_a035_7c67a2508876row28_col0\" class=\"data row28 col0\" >13.819</td>\n",
       "            </tr>\n",
       "            <tr>\n",
       "                        <th id=\"T_1b1f9a24_0009_11ea_a035_7c67a2508876level0_row29\" class=\"row_heading level0 row29\" >MO</th>\n",
       "                        <td id=\"T_1b1f9a24_0009_11ea_a035_7c67a2508876row29_col0\" class=\"data row29 col0\" >13.7347</td>\n",
       "            </tr>\n",
       "            <tr>\n",
       "                        <th id=\"T_1b1f9a24_0009_11ea_a035_7c67a2508876level0_row30\" class=\"row_heading level0 row30\" >NH</th>\n",
       "                        <td id=\"T_1b1f9a24_0009_11ea_a035_7c67a2508876row30_col0\" class=\"data row30 col0\" >13.6687</td>\n",
       "            </tr>\n",
       "            <tr>\n",
       "                        <th id=\"T_1b1f9a24_0009_11ea_a035_7c67a2508876level0_row31\" class=\"row_heading level0 row31\" >VA</th>\n",
       "                        <td id=\"T_1b1f9a24_0009_11ea_a035_7c67a2508876row31_col0\" class=\"data row31 col0\" >13.6682</td>\n",
       "            </tr>\n",
       "            <tr>\n",
       "                        <th id=\"T_1b1f9a24_0009_11ea_a035_7c67a2508876level0_row32\" class=\"row_heading level0 row32\" >LA</th>\n",
       "                        <td id=\"T_1b1f9a24_0009_11ea_a035_7c67a2508876row32_col0\" class=\"data row32 col0\" >13.5959</td>\n",
       "            </tr>\n",
       "            <tr>\n",
       "                        <th id=\"T_1b1f9a24_0009_11ea_a035_7c67a2508876level0_row33\" class=\"row_heading level0 row33\" >TN</th>\n",
       "                        <td id=\"T_1b1f9a24_0009_11ea_a035_7c67a2508876row33_col0\" class=\"data row33 col0\" >13.5692</td>\n",
       "            </tr>\n",
       "            <tr>\n",
       "                        <th id=\"T_1b1f9a24_0009_11ea_a035_7c67a2508876level0_row34\" class=\"row_heading level0 row34\" >TX</th>\n",
       "                        <td id=\"T_1b1f9a24_0009_11ea_a035_7c67a2508876row34_col0\" class=\"data row34 col0\" >13.5505</td>\n",
       "            </tr>\n",
       "            <tr>\n",
       "                        <th id=\"T_1b1f9a24_0009_11ea_a035_7c67a2508876level0_row35\" class=\"row_heading level0 row35\" >NE</th>\n",
       "                        <td id=\"T_1b1f9a24_0009_11ea_a035_7c67a2508876row35_col0\" class=\"data row35 col0\" >13.543</td>\n",
       "            </tr>\n",
       "            <tr>\n",
       "                        <th id=\"T_1b1f9a24_0009_11ea_a035_7c67a2508876level0_row36\" class=\"row_heading level0 row36\" >MS</th>\n",
       "                        <td id=\"T_1b1f9a24_0009_11ea_a035_7c67a2508876row36_col0\" class=\"data row36 col0\" >13.4827</td>\n",
       "            </tr>\n",
       "            <tr>\n",
       "                        <th id=\"T_1b1f9a24_0009_11ea_a035_7c67a2508876level0_row37\" class=\"row_heading level0 row37\" >AR</th>\n",
       "                        <td id=\"T_1b1f9a24_0009_11ea_a035_7c67a2508876row37_col0\" class=\"data row37 col0\" >13.1641</td>\n",
       "            </tr>\n",
       "            <tr>\n",
       "                        <th id=\"T_1b1f9a24_0009_11ea_a035_7c67a2508876level0_row38\" class=\"row_heading level0 row38\" >UT</th>\n",
       "                        <td id=\"T_1b1f9a24_0009_11ea_a035_7c67a2508876row38_col0\" class=\"data row38 col0\" >13.1314</td>\n",
       "            </tr>\n",
       "            <tr>\n",
       "                        <th id=\"T_1b1f9a24_0009_11ea_a035_7c67a2508876level0_row39\" class=\"row_heading level0 row39\" >SD</th>\n",
       "                        <td id=\"T_1b1f9a24_0009_11ea_a035_7c67a2508876row39_col0\" class=\"data row39 col0\" >13.1052</td>\n",
       "            </tr>\n",
       "            <tr>\n",
       "                        <th id=\"T_1b1f9a24_0009_11ea_a035_7c67a2508876level0_row40\" class=\"row_heading level0 row40\" >WY</th>\n",
       "                        <td id=\"T_1b1f9a24_0009_11ea_a035_7c67a2508876row40_col0\" class=\"data row40 col0\" >13.0874</td>\n",
       "            </tr>\n",
       "            <tr>\n",
       "                        <th id=\"T_1b1f9a24_0009_11ea_a035_7c67a2508876level0_row41\" class=\"row_heading level0 row41\" >DC</th>\n",
       "                        <td id=\"T_1b1f9a24_0009_11ea_a035_7c67a2508876row41_col0\" class=\"data row41 col0\" >13.0222</td>\n",
       "            </tr>\n",
       "            <tr>\n",
       "                        <th id=\"T_1b1f9a24_0009_11ea_a035_7c67a2508876level0_row42\" class=\"row_heading level0 row42\" >KS</th>\n",
       "                        <td id=\"T_1b1f9a24_0009_11ea_a035_7c67a2508876row42_col0\" class=\"data row42 col0\" >12.9132</td>\n",
       "            </tr>\n",
       "            <tr>\n",
       "                        <th id=\"T_1b1f9a24_0009_11ea_a035_7c67a2508876level0_row43\" class=\"row_heading level0 row43\" >SC</th>\n",
       "                        <td id=\"T_1b1f9a24_0009_11ea_a035_7c67a2508876row43_col0\" class=\"data row43 col0\" >12.8935</td>\n",
       "            </tr>\n",
       "            <tr>\n",
       "                        <th id=\"T_1b1f9a24_0009_11ea_a035_7c67a2508876level0_row44\" class=\"row_heading level0 row44\" >GA</th>\n",
       "                        <td id=\"T_1b1f9a24_0009_11ea_a035_7c67a2508876row44_col0\" class=\"data row44 col0\" >12.7245</td>\n",
       "            </tr>\n",
       "            <tr>\n",
       "                        <th id=\"T_1b1f9a24_0009_11ea_a035_7c67a2508876level0_row45\" class=\"row_heading level0 row45\" >MN</th>\n",
       "                        <td id=\"T_1b1f9a24_0009_11ea_a035_7c67a2508876row45_col0\" class=\"data row45 col0\" >12.7025</td>\n",
       "            </tr>\n",
       "            <tr>\n",
       "                        <th id=\"T_1b1f9a24_0009_11ea_a035_7c67a2508876level0_row46\" class=\"row_heading level0 row46\" >ND</th>\n",
       "                        <td id=\"T_1b1f9a24_0009_11ea_a035_7c67a2508876row46_col0\" class=\"data row46 col0\" >12.6154</td>\n",
       "            </tr>\n",
       "            <tr>\n",
       "                        <th id=\"T_1b1f9a24_0009_11ea_a035_7c67a2508876level0_row47\" class=\"row_heading level0 row47\" >MT</th>\n",
       "                        <td id=\"T_1b1f9a24_0009_11ea_a035_7c67a2508876row47_col0\" class=\"data row47 col0\" >12.5741</td>\n",
       "            </tr>\n",
       "            <tr>\n",
       "                        <th id=\"T_1b1f9a24_0009_11ea_a035_7c67a2508876level0_row48\" class=\"row_heading level0 row48\" >IA</th>\n",
       "                        <td id=\"T_1b1f9a24_0009_11ea_a035_7c67a2508876row48_col0\" class=\"data row48 col0\" >12.4804</td>\n",
       "            </tr>\n",
       "            <tr>\n",
       "                        <th id=\"T_1b1f9a24_0009_11ea_a035_7c67a2508876level0_row49\" class=\"row_heading level0 row49\" >NV</th>\n",
       "                        <td id=\"T_1b1f9a24_0009_11ea_a035_7c67a2508876row49_col0\" class=\"data row49 col0\" >12.4388</td>\n",
       "            </tr>\n",
       "            <tr>\n",
       "                        <th id=\"T_1b1f9a24_0009_11ea_a035_7c67a2508876level0_row50\" class=\"row_heading level0 row50\" >AL</th>\n",
       "                        <td id=\"T_1b1f9a24_0009_11ea_a035_7c67a2508876row50_col0\" class=\"data row50 col0\" >12.1158</td>\n",
       "            </tr>\n",
       "    </tbody></table>"
      ],
      "text/plain": [
       "<pandas.io.formats.style.Styler at 0xbe9af10>"
      ]
     },
     "execution_count": 42,
     "metadata": {},
     "output_type": "execute_result"
    }
   ],
   "source": [
    "def highlight_max(s):\n",
    "    highlight_min(s)\n",
    "    '''\n",
    "    highlight the maximum in a Series yellow.\n",
    "    '''\n",
    "    is_max = s == s.max()\n",
    "    return ['background-color: #18e780' if v else '' for v in is_max]\n",
    "\n",
    "def highlight_min(s):\n",
    "    '''\n",
    "    highlight the minimum in a Series yellow.\n",
    "    '''\n",
    "    is_min = s == s.min()\n",
    "    return ['background-color: red' if v else '' for v in is_min]\n",
    "\n",
    "breakdown = healthCare.divide(numBusinesses) * 100\n",
    "breakdown.sort_values(ascending=False, inplace=True)\n",
    "breakdown.to_frame().style.apply(highlight_max)"
   ]
  },
  {
   "cell_type": "markdown",
   "metadata": {},
   "source": [
    "# 5. \n",
    "Does the data support the claim that the state of New Hampshire has a lower concentration of health-care businesses than the country as a whole? Why or why not?\n",
    "\n",
    "\n",
    "Answer:\n",
    "\n",
    "Looking at the figure above, New Hampshire has a concentration of health-care businesses of 13.6687%. "
   ]
  },
  {
   "cell_type": "code",
   "execution_count": 43,
   "metadata": {},
   "outputs": [
    {
     "data": {
      "text/plain": [
       "922769"
      ]
     },
     "execution_count": 43,
     "metadata": {},
     "output_type": "execute_result"
    }
   ],
   "source": [
    "numBusinesses.unique().sum()"
   ]
  },
  {
   "cell_type": "code",
   "execution_count": 44,
   "metadata": {},
   "outputs": [
    {
     "data": {
      "text/plain": [
       "134352"
      ]
     },
     "execution_count": 44,
     "metadata": {},
     "output_type": "execute_result"
    }
   ],
   "source": [
    "healthCare.unique().sum()"
   ]
  },
  {
   "cell_type": "markdown",
   "metadata": {},
   "source": [
    "To get the concentration of health-care businesses in the entire country, we have to add up all the [unique] health care businesses in the country and divide it by the total businesses in the country. We then multiply the fraction by 100 to get the percentage."
   ]
  },
  {
   "cell_type": "code",
   "execution_count": 45,
   "metadata": {},
   "outputs": [
    {
     "data": {
      "text/plain": [
       "14.651120703014515"
      ]
     },
     "execution_count": 45,
     "metadata": {},
     "output_type": "execute_result"
    }
   ],
   "source": [
    "( healthCare.sum() / numBusinesses.sum() ) * 100"
   ]
  },
  {
   "cell_type": "markdown",
   "metadata": {},
   "source": [
    "From this calculation, we find that the total concentration of health care businesses in  the country is 14.65%. New Hampshire's concentration is 13.67%. This supports the conclusion that New Hampshire has a lower concentration of health care businesses."
   ]
  },
  {
   "cell_type": "markdown",
   "metadata": {},
   "source": [
    "# 6. \n",
    "Do an analysis on the quantity mean per capita income per state.  What does the distribution of this attribute look like?  Is it skewed?  Are there outliers?"
   ]
  },
  {
   "cell_type": "markdown",
   "metadata": {},
   "source": [
    "Answer:\n",
    "\n",
    "First, get the total population of each state."
   ]
  },
  {
   "cell_type": "code",
   "execution_count": 46,
   "metadata": {
    "scrolled": true
   },
   "outputs": [
    {
     "data": {
      "text/plain": [
       "state\n",
       "AK      703159\n",
       "AL     4761097\n",
       "AR     2912218\n",
       "AZ     6356003\n",
       "CA    36925462\n",
       "CO     4979179\n",
       "CT     3548308\n",
       "DC      579471\n",
       "DE      892487\n",
       "FL    18593035\n",
       "GA     9613781\n",
       "HI     1339090\n",
       "IA     3027282\n",
       "ID     1566982\n",
       "IL    12800032\n",
       "IN     6452186\n",
       "KS     2844009\n",
       "KY     4312663\n",
       "LA     4464564\n",
       "MA     6289735\n",
       "MD     5220219\n",
       "ME     1255979\n",
       "MI     9735496\n",
       "MN     4908331\n",
       "MO     5976862\n",
       "MS     2824350\n",
       "MT      899811\n",
       "NC     7965332\n",
       "ND      640141\n",
       "NE     1706465\n",
       "NH     1227937\n",
       "NJ     8338350\n",
       "NM     1805713\n",
       "NV     1983474\n",
       "NY    18596537\n",
       "OH    11309255\n",
       "OK     3436631\n",
       "OR     3378525\n",
       "PA    12210200\n",
       "RI     1038604\n",
       "SC     4556028\n",
       "SD      813654\n",
       "TN     6292739\n",
       "TX    24939233\n",
       "UT     2734420\n",
       "VA     7888581\n",
       "VT      623895\n",
       "WA     6681919\n",
       "WI     5627890\n",
       "WV     1852774\n",
       "WY      557031\n",
       "Name: population, dtype: int64"
      ]
     },
     "execution_count": 46,
     "metadata": {},
     "output_type": "execute_result"
    }
   ],
   "source": [
    "statePops = zips.groupby('state').population.sum()\n",
    "statePops"
   ]
  },
  {
   "cell_type": "markdown",
   "metadata": {},
   "source": [
    "Since we cannot average averages, we must first get the total income in a state and then divide it by the total population. Here, we are getting total income in a zip code by multiplying mean_income by population. Then add up all zip codes in a state to get the total income per state. "
   ]
  },
  {
   "cell_type": "code",
   "execution_count": 47,
   "metadata": {},
   "outputs": [
    {
     "data": {
      "text/html": [
       "<div>\n",
       "<style scoped>\n",
       "    .dataframe tbody tr th:only-of-type {\n",
       "        vertical-align: middle;\n",
       "    }\n",
       "\n",
       "    .dataframe tbody tr th {\n",
       "        vertical-align: top;\n",
       "    }\n",
       "\n",
       "    .dataframe thead th {\n",
       "        text-align: right;\n",
       "    }\n",
       "</style>\n",
       "<table border=\"1\" class=\"dataframe\">\n",
       "  <thead>\n",
       "    <tr style=\"text-align: right;\">\n",
       "      <th></th>\n",
       "      <th>zip</th>\n",
       "      <th>state</th>\n",
       "      <th>mean_income</th>\n",
       "      <th>median_income</th>\n",
       "      <th>population</th>\n",
       "      <th>total_income</th>\n",
       "    </tr>\n",
       "  </thead>\n",
       "  <tbody>\n",
       "    <tr>\n",
       "      <td>0</td>\n",
       "      <td>01001</td>\n",
       "      <td>MA</td>\n",
       "      <td>56663</td>\n",
       "      <td>66688</td>\n",
       "      <td>16445</td>\n",
       "      <td>931823035</td>\n",
       "    </tr>\n",
       "    <tr>\n",
       "      <td>1</td>\n",
       "      <td>01002</td>\n",
       "      <td>MA</td>\n",
       "      <td>49853</td>\n",
       "      <td>75063</td>\n",
       "      <td>28069</td>\n",
       "      <td>1399323857</td>\n",
       "    </tr>\n",
       "    <tr>\n",
       "      <td>2</td>\n",
       "      <td>01003</td>\n",
       "      <td>MA</td>\n",
       "      <td>28462</td>\n",
       "      <td>35121</td>\n",
       "      <td>8491</td>\n",
       "      <td>241670842</td>\n",
       "    </tr>\n",
       "    <tr>\n",
       "      <td>3</td>\n",
       "      <td>01005</td>\n",
       "      <td>MA</td>\n",
       "      <td>75423</td>\n",
       "      <td>82442</td>\n",
       "      <td>4798</td>\n",
       "      <td>361879554</td>\n",
       "    </tr>\n",
       "    <tr>\n",
       "      <td>4</td>\n",
       "      <td>01007</td>\n",
       "      <td>MA</td>\n",
       "      <td>79076</td>\n",
       "      <td>85802</td>\n",
       "      <td>12962</td>\n",
       "      <td>1024983112</td>\n",
       "    </tr>\n",
       "    <tr>\n",
       "      <td>...</td>\n",
       "      <td>...</td>\n",
       "      <td>...</td>\n",
       "      <td>...</td>\n",
       "      <td>...</td>\n",
       "      <td>...</td>\n",
       "      <td>...</td>\n",
       "    </tr>\n",
       "    <tr>\n",
       "      <td>32622</td>\n",
       "      <td>99923</td>\n",
       "      <td>AK</td>\n",
       "      <td>43625</td>\n",
       "      <td>42895</td>\n",
       "      <td>87</td>\n",
       "      <td>3795375</td>\n",
       "    </tr>\n",
       "    <tr>\n",
       "      <td>32623</td>\n",
       "      <td>99925</td>\n",
       "      <td>AK</td>\n",
       "      <td>50357</td>\n",
       "      <td>63808</td>\n",
       "      <td>819</td>\n",
       "      <td>41242383</td>\n",
       "    </tr>\n",
       "    <tr>\n",
       "      <td>32624</td>\n",
       "      <td>99926</td>\n",
       "      <td>AK</td>\n",
       "      <td>44063</td>\n",
       "      <td>51660</td>\n",
       "      <td>1460</td>\n",
       "      <td>64331980</td>\n",
       "    </tr>\n",
       "    <tr>\n",
       "      <td>32625</td>\n",
       "      <td>99927</td>\n",
       "      <td>AK</td>\n",
       "      <td>41815</td>\n",
       "      <td>55501</td>\n",
       "      <td>94</td>\n",
       "      <td>3930610</td>\n",
       "    </tr>\n",
       "    <tr>\n",
       "      <td>32626</td>\n",
       "      <td>99929</td>\n",
       "      <td>AK</td>\n",
       "      <td>50389</td>\n",
       "      <td>69595</td>\n",
       "      <td>2338</td>\n",
       "      <td>117809482</td>\n",
       "    </tr>\n",
       "  </tbody>\n",
       "</table>\n",
       "<p>32627 rows × 6 columns</p>\n",
       "</div>"
      ],
      "text/plain": [
       "         zip state  mean_income  median_income  population  total_income\n",
       "0      01001    MA        56663          66688       16445     931823035\n",
       "1      01002    MA        49853          75063       28069    1399323857\n",
       "2      01003    MA        28462          35121        8491     241670842\n",
       "3      01005    MA        75423          82442        4798     361879554\n",
       "4      01007    MA        79076          85802       12962    1024983112\n",
       "...      ...   ...          ...            ...         ...           ...\n",
       "32622  99923    AK        43625          42895          87       3795375\n",
       "32623  99925    AK        50357          63808         819      41242383\n",
       "32624  99926    AK        44063          51660        1460      64331980\n",
       "32625  99927    AK        41815          55501          94       3930610\n",
       "32626  99929    AK        50389          69595        2338     117809482\n",
       "\n",
       "[32627 rows x 6 columns]"
      ]
     },
     "execution_count": 47,
     "metadata": {},
     "output_type": "execute_result"
    }
   ],
   "source": [
    "zips['total_income'] = zips['mean_income'] * zips['population']\n",
    "zips"
   ]
  },
  {
   "cell_type": "markdown",
   "metadata": {},
   "source": [
    "Group by state to get total income per state"
   ]
  },
  {
   "cell_type": "code",
   "execution_count": 48,
   "metadata": {},
   "outputs": [
    {
     "data": {
      "text/plain": [
       "state\n",
       "AK      48904193983\n",
       "AL     217091872408\n",
       "AR     120590512619\n",
       "AZ     348598965686\n",
       "CA    2424135659803\n",
       "CO     309879911185\n",
       "CT     268675632934\n",
       "DC      36440168046\n",
       "DE      55454261981\n",
       "FL     964801715599\n",
       "GA     518187573346\n",
       "HI      92721180574\n",
       "IA     156000238914\n",
       "ID      76489939718\n",
       "IL     778581806940\n",
       "IN     330124356842\n",
       "KS     155015682449\n",
       "KY     192950436909\n",
       "LA     206000839869\n",
       "MA     439555400677\n",
       "MD     395847633317\n",
       "ME      60932824184\n",
       "MI     493629734673\n",
       "MN     295127022666\n",
       "MO     301989072223\n",
       "MS     108599234101\n",
       "MT      41250741730\n",
       "NC     374644573852\n",
       "ND      30440086791\n",
       "NE      85947042417\n",
       "NH      81851406569\n",
       "NJ     630790815239\n",
       "NM      83038001220\n",
       "NV     108722049853\n",
       "NY    1136525019168\n",
       "OH     563358923435\n",
       "OK     153671411777\n",
       "OR     173815877045\n",
       "PA     656532597298\n",
       "RI      60158569498\n",
       "SC     210215338248\n",
       "SD      39969914531\n",
       "TN     297134240465\n",
       "TX    1363599090476\n",
       "UT     165083073404\n",
       "VA     554836893881\n",
       "VT      33630584372\n",
       "WA     411465962516\n",
       "WI     305857265788\n",
       "WV      74426373933\n",
       "WY      32342756876\n",
       "Name: total_income, dtype: int64"
      ]
     },
     "execution_count": 48,
     "metadata": {},
     "output_type": "execute_result"
    }
   ],
   "source": [
    "stateIncomes = zips.groupby('state').total_income.sum()\n",
    "stateIncomes"
   ]
  },
  {
   "cell_type": "markdown",
   "metadata": {},
   "source": [
    "Divide income by population to get income per capita"
   ]
  },
  {
   "cell_type": "code",
   "execution_count": 49,
   "metadata": {},
   "outputs": [
    {
     "data": {
      "text/plain": [
       "state\n",
       "AK    69549.268349\n",
       "AL    45597.027830\n",
       "AR    41408.477188\n",
       "AZ    54845.626361\n",
       "CA    65649.433440\n",
       "CO    62235.141815\n",
       "CT    75719.366226\n",
       "DC    62885.231610\n",
       "DE    62134.531910\n",
       "FL    51890.491014\n",
       "GA    53900.496937\n",
       "HI    69241.933383\n",
       "IA    51531.452608\n",
       "ID    48813.540754\n",
       "IL    60826.551601\n",
       "IN    51164.730348\n",
       "KS    54506.044970\n",
       "KY    44740.439239\n",
       "LA    46141.311866\n",
       "MA    69884.565992\n",
       "MD    75829.698585\n",
       "ME    48514.206196\n",
       "MI    50704.117661\n",
       "MN    60127.775137\n",
       "MO    50526.358518\n",
       "MS    38451.053907\n",
       "MT    45843.784673\n",
       "NC    47034.395283\n",
       "ND    47552.159276\n",
       "NE    50365.546564\n",
       "NH    66657.659610\n",
       "NJ    75649.356916\n",
       "NM    45986.267596\n",
       "NV    54813.952617\n",
       "NY    61114.874192\n",
       "OH    49813.973019\n",
       "OK    44715.714831\n",
       "OR    51447.266794\n",
       "PA    53769.192749\n",
       "RI    57922.528219\n",
       "SC    46140.045287\n",
       "SD    49123.969809\n",
       "TN    47218.586448\n",
       "TX    54676.865583\n",
       "UT    60372.244719\n",
       "VA    70334.182267\n",
       "VT    53904.237687\n",
       "WA    61579.010837\n",
       "WI    54346.702901\n",
       "WV    40170.238752\n",
       "WY    58062.759301\n",
       "dtype: float64"
      ]
     },
     "execution_count": 49,
     "metadata": {},
     "output_type": "execute_result"
    }
   ],
   "source": [
    "perCapIncome = stateIncomes / statePops\n",
    "perCapIncome"
   ]
  },
  {
   "cell_type": "markdown",
   "metadata": {},
   "source": [
    "We will make a vioin graph to see the distribution. The distribution below shows that the per capita income per state distribution is skewed towards the lower end. The distribution is clustered around the \\\\$50,000 mark. The incomes vary from about \\\\$30,000 and \\\\$85,000. The median appears to be around \\\\$52,000. "
   ]
  },
  {
   "cell_type": "code",
   "execution_count": 50,
   "metadata": {},
   "outputs": [
    {
     "data": {
      "text/plain": [
       "<matplotlib.axes._subplots.AxesSubplot at 0x12c2dcd0>"
      ]
     },
     "execution_count": 50,
     "metadata": {},
     "output_type": "execute_result"
    },
    {
     "data": {
      "image/png": "[encoded data removed]",
      "text/plain": [
       "<Figure size 432x288 with 1 Axes>"
      ]
     },
     "metadata": {
      "needs_background": "light"
     },
     "output_type": "display_data"
    }
   ],
   "source": [
    "import seaborn as sns\n",
    "sns.violinplot(perCapIncome ,orient=\"v\")"
   ]
  },
  {
   "cell_type": "markdown",
   "metadata": {},
   "source": [
    "To see any outliers, we will do a box and whisker chart. From the box chart below, there are no outliers for mean per capita income by state."
   ]
  },
  {
   "cell_type": "code",
   "execution_count": 51,
   "metadata": {},
   "outputs": [
    {
     "data": {
      "text/plain": [
       "<matplotlib.axes._subplots.AxesSubplot at 0x12c78d30>"
      ]
     },
     "execution_count": 51,
     "metadata": {},
     "output_type": "execute_result"
    },
    {
     "data": {
      "image/png": "[encoded data removed]",
      "text/plain": [
       "<Figure size 432x288 with 1 Axes>"
      ]
     },
     "metadata": {
      "needs_background": "light"
     },
     "output_type": "display_data"
    }
   ],
   "source": [
    "perCapIncome.plot(kind='box')"
   ]
  }
 ],
 "metadata": {
  "kernelspec": {
   "display_name": "Python 3",
   "language": "python",
   "name": "python3"
  },
  "language_info": {
   "codemirror_mode": {
    "name": "ipython",
    "version": 3
   },
   "file_extension": ".py",
   "mimetype": "text/x-python",
   "name": "python",
   "nbconvert_exporter": "python",
   "pygments_lexer": "ipython3",
   "version": "3.7.4"
  }
 },
 "nbformat": 4,
 "nbformat_minor": 2
}
